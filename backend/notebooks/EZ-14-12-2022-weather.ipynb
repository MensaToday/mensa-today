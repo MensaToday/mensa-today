{
 "cells": [
  {
   "cell_type": "code",
   "execution_count": 16,
   "outputs": [
    {
     "name": "stdout",
     "output_type": "stream",
     "text": [
      "c_temp: 8.1 | c_rain: 0.1 | c_snow: 0.0 | c_wind: 10.4\n",
      "3 4.171167510947728 60\n"
     ]
    },
    {
     "data": {
      "text/plain": "0.9304805414842046"
     },
     "execution_count": 16,
     "metadata": {},
     "output_type": "execute_result"
    }
   ],
   "source": [
    "import requests\n",
    "import datetime\n",
    "\n",
    "api_url = \"https://api.open-meteo.com/v1/forecast?latitude=51.96&longitude=7.63&hourly=temperature_2m,rain,snowfall,windspeed_10m&daily=weathercode&timezone=Europe%2FBerlin&start_date={start}&end_date={end}\"\n",
    "\n",
    "def get_score(day: datetime.datetime) -> float:\n",
    "    formatted = day.strftime(\"%Y-%m-%d\")\n",
    "    res = requests.get(api_url.format(start=formatted, end=formatted)).json()\n",
    "    hourly = res[\"hourly\"]\n",
    "\n",
    "    temp = hourly[\"temperature_2m\"]\n",
    "    rain = hourly[\"rain\"]\n",
    "    snowfall = hourly[\"snowfall\"]\n",
    "    wind = hourly[\"windspeed_10m\"]\n",
    "\n",
    "    hour = day.hour + (1 if day.minute >= 20 else 0)\n",
    "\n",
    "    c_temp = temp[hour]\n",
    "    c_rain = rain[hour]\n",
    "    c_snow = snowfall[hour]\n",
    "    c_wind = wind[hour]\n",
    "\n",
    "    print(\"c_temp:\", c_temp, \"| c_rain:\", c_rain, \"| c_snow:\", c_snow, \"| c_wind:\", c_wind)\n",
    "\n",
    "    points = 0\n",
    "    max_points = 0\n",
    "\n",
    "    max_points += 15\n",
    "    # in °C\n",
    "    if c_temp < -5:\n",
    "        points += 15\n",
    "    elif c_temp < 0:\n",
    "        points += 5\n",
    "    elif c_temp < 5:\n",
    "        points += 2\n",
    "    elif c_temp < 10:\n",
    "        points += 1\n",
    "\n",
    "    max_points += 15\n",
    "    # in mm\n",
    "    if c_rain >= 30:\n",
    "        points += 15\n",
    "    elif c_rain >= 10:\n",
    "        points += 8\n",
    "    elif c_rain >= 2.5:\n",
    "        points += 4\n",
    "    elif c_rain >= 0:\n",
    "        points += 1\n",
    "\n",
    "    max_points += 15\n",
    "    # in cm\n",
    "    if c_snow >= 10:\n",
    "        points += 15\n",
    "    elif c_snow >= 3:\n",
    "        points += 4\n",
    "    elif c_snow >= 1:\n",
    "        points += 2\n",
    "    elif c_snow >= 0:\n",
    "        points += 1\n",
    "\n",
    "    max_points += 15\n",
    "    # in km/h\n",
    "    if c_wind >= 60: # stormy wind\n",
    "        points += 15\n",
    "    elif c_wind >= 40: # strong wind\n",
    "        points += 9\n",
    "    elif c_wind >= 30: # fresh breeze\n",
    "        points += 3\n",
    "    elif c_wind >= 12: # faint breeze\n",
    "        points += 1\n",
    "\n",
    "    print(points, points ** 1.3, max_points)\n",
    "    return 1 - min(points ** 1.3 / max_points, 1.0)\n",
    "\n",
    "get_score(datetime.datetime.now())"
   ],
   "metadata": {
    "collapsed": false
   }
  },
  {
   "cell_type": "code",
   "execution_count": null,
   "outputs": [],
   "source": [],
   "metadata": {
    "collapsed": false
   }
  }
 ],
 "metadata": {
  "kernelspec": {
   "display_name": "Python 3",
   "language": "python",
   "name": "python3"
  },
  "language_info": {
   "codemirror_mode": {
    "name": "ipython",
    "version": 2
   },
   "file_extension": ".py",
   "mimetype": "text/x-python",
   "name": "python",
   "nbconvert_exporter": "python",
   "pygments_lexer": "ipython2",
   "version": "2.7.6"
  }
 },
 "nbformat": 4,
 "nbformat_minor": 0
}
