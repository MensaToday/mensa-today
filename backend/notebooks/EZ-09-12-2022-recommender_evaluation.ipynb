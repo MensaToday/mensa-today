{
 "cells": [
  {
   "cell_type": "code",
   "execution_count": 1,
   "metadata": {
    "collapsed": true
   },
   "outputs": [],
   "source": [
    "import numpy as np\n",
    "\n",
    "dishes = [(2, 'Ravioli mit Ricotta-Spinatfüllung mit Tomaten-Pestosauce', [2], [1, 4], [1, 7, 13], True), (3, 'Ricotta-Spinat-Cannelloni und Tomatensauce', [2], [], [1, 7, 9, 13], True), (4, 'Sojagyros mit Zaziki und Krautsalat', [1], [], [12, 24], True), (5, 'Schupfnudeln mit Spitzkohl und Kräuterrahmsauce', [1], [1, 2], [1, 7, 12], True), (7, 'Kräuterbulgur', [1], [1], [1, 7], False), (8, 'Backkartoffel mit Kräuter-Quark', [2], [], [13], True), (9, 'Kartoffel-Möhrenauflauf', [2], [], [9, 13], True), (11, 'Käse-Lauchsuppe mit halbem Baguettebrötchen', [2], [1, 2], [1, 7, 13], True), (12, 'Nudeln', [1], [], [1, 7], False), (14, 'Gemüse-Tortellini mit Tomaten-Chilisauce', [2], [1], [1, 7, 13, 23], True), (16, '5 Stück Rostbratwürstchen Nürnberger Art mir Bratensauce', [3], [], [24], True), (17, 'Hähnchennuggets in Knusperpanade mit süß-saurer Sauce', [5], [2], [1, 7], True), (18, '5 Stück Rostbratwürstchen nach Nürnberger Art mir Bratensauce', [3], [], [24], True), (20, 'Sojastreifen nach mexikanischer Art', [1], [3], [12], True), (21, 'Gebackenes Alaska Seelachsfilet mit fruchtig-scharfem Senf Dip', [7], [2], [1, 7, 9, 10, 13, 24], True), (22, 'Kaisergemüse', [1], [1], [], False), (24, 'Gefüllte Paprikaschote mit Kräutercouscous', [1], [1], [1, 7, 23, 24], True), (25, 'Paella mit Räuchertofu', [1], [6], [12], True), (28, 'Mischgemüse', [1], [1], [], False), (29, 'Vollkornnudelpfanne mit Gemüse', [1], [], [1, 7], True), (32, 'Chili con Carne mit Fladenbrot', [4], [3], [1, 6, 7, 25], True), (34, 'Salzkartoffeln', [1], [1], [], False), (37, 'Tomatenreis', [1], [1], [], False), (38, 'Alaska-Seelachsfilet in Kartoffelpanade mit Kräutersauce', [7], [], [1, 7, 10, 13], True), (41, 'Kartoffel-Gemüse-Gratin', [2], [], [13], True), (43, 'Hähnchennuggets in Knusperpanade mit Paprika-Quark Dip', [5], [3], [1, 7, 13], True), (44, 'Bowl Italy', [2], [6], [13, 14, 18], True), (48, 'Eisbergsalat mit Cocktaildressing', [2], [2], [1, 7, 9, 24], False), (49, 'Kräutercouscous', [1], [1], [1, 7], False), (51, 'Frikadelle mit Rahmsauce', [3, 4], [], [1, 7, 9, 13, 24], True), (54, 'Gurkensalat', [1], [], [], False), (57, 'Süßkartoffelcurry mit Paprika und Pilzen', [1], [4], [23], True), (59, 'Coleslaw', [2], [2], [1, 7, 9, 23, 24], False), (61, 'Leberkäse mit Bratensauce mit Schmorzwiebeln', [3], [1, 2, 3, 4], [24], True), (62, 'Pariser Kartoffeln \"Münsterlandknolle\"', [1], [1], [], False), (63, 'Kartoffelpüree \"Münsterlandknolle\"', [2], [1], [13], False), (64, 'Erbsen und Möhren', [1], [], [], False), (66, 'Hähnchenbrustfilet paniert Curry-Früchtesauce', [5], [1, 3], [1, 7, 13], True), (69, 'Beilagensalat', [1], [], [], False), (71, 'Pommes frites', [1], [], [], False), (73, 'Couscous', [1], [], [1, 7], False), (76, 'Buddha Bowl mit Wildreis und Süßkartoffel Erdnuss-Dip mit Sesam Dip mit Honig-Senfdressing', [2], [2, 5], [1, 7, 11, 12, 24, 25], True), (77, 'Spinat-Dinkel-Knusperplätzchen mit Knoblauch Dip', [2], [3], [1, 2, 7, 9, 12, 13, 23, 24], True), (79, 'Leipziger Allerlei', [1], [1], [], False), (82, 'Möhrensalat', [1], [], [], False), (83, 'Möhren', [1], [1], [], False), (87, 'Cevapcici mit Zaziki', [4], [], [1, 7, 9, 13, 24], True), (88, 'Kräuter-Bulgur', [1], [1], [1, 7], False), (89, 'Chili-Cheese-Nuggets mit Ananassalsa', [2], [1, 2], [1, 7, 13, 24], True), (92, 'Broccoli-Nussecke mit Schnittlauchsauce', [1], [], [1, 4, 7, 12, 14, 15, 16, 23], True), (93, 'Rinderroulade', [3, 4], [2, 3], [24], True), (95, 'Paniertes Seelachsfilet mit Remoulade', [7], [2, 9], [1, 7, 9, 10, 13, 24], True), (96, 'Hähnchen Piccata mit Tomatensauce', [5], [], [1, 7, 13], True), (97, 'Medi-Vegi-Burger mit Tomatencreme', [2], [], [1, 2, 3, 4, 7, 13, 25], True), (100, 'Chili con Carne', [4], [3], [], True), (103, 'Pfeffer-Cheese-Burger mit Rindfleischpatty, Salat, Tomate, Pfefferkäse und Paprikadip', [4], [1, 2, 9], [1, 7, 12, 13, 24, 25], True), (105, 'Brechbohnen', [1], [], [], False), (107, 'Pommes Frites', [1], [], [], False), (108, 'Veganer Grünkohleintopf', [1], [1], [24], True), (110, 'Kasselergeschnetzeltes in Malzbiersauce', [3], [1, 2, 3], [1, 3], True), (111, 'Gyrosbraten Tzatziki, Krautsalat und Reis', [3], [1], [13], True), (124, 'Spätzle', [2], [1], [1, 7, 9], False), (114, 'Burger Greek mit Tomatencreme', [2], [1, 5], [1, 7, 9, 13, 14, 17], True), (133, 'Veganer Burger Sunny mit Limettenmayonnaise mit Gemüsepatty', [1], [1, 4], [1, 4, 7, 12, 24], True), (160, 'Suppenbowl mit Tofu', [1], [], [1, 7, 12, 23, 25], True), (115, 'Prinzessbohnen mit Zwiebelschmelze', [1], [1], [], False), (121, 'Kartoffelpüree Münsterlandknolle', [2], [1], [13], False), (144, 'Pfirsichquark', [2], [], [13], False), (117, 'Quark mit Blaubeeren', [2], [], [13], False), (118, 'Bulgurschnitte \"Bifteki\" mit Tzatziki', [2], [], [1, 7, 13], True), (132, 'Hähnchenschnitzel mit Rahmsauce', [5], [], [1, 7, 9], True), (149, 'Rostbratwürstchen mit Kartoffelpüree und Sauerkraut', [3], [1], [13], True), (170, 'Krautsalat mit Möhre', [1], [], [], False), (176, 'Beilagensalat mit Essig-Öl-Dressing oder Joghurtdressing', [2], [3], [13, 24], False), (196, 'Gemüseeintopf', [1], [1], [], True), (119, 'Herzogin-Kartoffeln', [2], [], [13], False), (143, 'Mandarinenquark', [2], [], [13], False), (150, 'Bayrische Creme Dessertkirschen', [2], [], [9, 13], False), (120, 'Pommes Frites klein', [1], [], [], False), (134, 'Farmersalat', [1], [3], [23], False), (148, 'Tricoloregemüse', [1], [1], [], False), (152, 'Vegetarische Bratwurst', [2], [], [1, 7, 9], True), (166, 'Bratwurst', [3], [3], [24], True), (122, 'Gefüllte Paprikaschote mit Tomatensauce', [1], [], [1, 7, 23, 24], True), (139, 'Prinzessbohnen', [1], [1], [], False), (180, 'Erdbeerjoghurt', [2], [], [13], False), (186, 'Tiramisu', [2], [], [1, 7, 9, 13], False), (123, 'Spaghetti nach Carbonara Art mit einem Farmersalat', [3], [1, 2, 3, 4, 8], [12, 13, 23], True), (155, 'Schmorkartoffeln \"Münsterlandknolle\"', [1], [], [], False), (164, 'Sommergemüse', [1], [1], [], False), (169, 'Kartoffelpüree', [2], [1], [13], False), (174, 'Westfälisches Mettendchen', [3, 4], [1, 2, 3, 4], [], True), (125, 'Rosmarinkartoffeln \"Münsterlandknolle\" mit Kräuter-Knoblauch Dip', [1], [4], [12, 24], True), (142, 'Ravioli mit Ricotta-Spinatfüllung und Tomaten-Pestosauce', [2], [1, 4], [1, 7, 13], True), (154, '5 Stück Rostbratwürstchen nach Nürnberger Art mit Bratensauce', [3], [], [24], True), (163, 'Gemüse-Burger mit Gemüse-Kartoffelpuffer, Pfefferkäse und Paprikadip', [2], [1, 2, 3, 9], [1, 7, 9, 12, 13, 24, 25], True), (183, 'Kurkumareis', [1], [1], [], False), (189, 'Broccolicremesuppe', [1], [1], [12], False), (197, 'Veganer Hafer-Milchreis', [1], [], [1, 4], False), (201, 'Beilagensalat \"griechische Art\" mit Essig-Öl-Dressing', [1], [], [24], False), (203, 'Kartoffelsalat', [2], [2, 9], [1, 7, 9, 13, 24], False), (207, 'Rahmspitzkohl', [2], [1], [1, 7, 13], False), (126, 'Polenta Pizza mit Gemüse', [1], [], [], True), (136, 'Paniertes Schweineschnitzel oder gebratenes Schweinesteak mit Champignonsauce', [3], [1], [1, 7, 9, 13], True), (159, 'Asiasuppe', [2], [], [1, 7, 12, 24], False), (178, 'Fruchtjoghurt im Becher', [2], [], [], False), (192, 'Veganes Hafer Dessert im Becher', [1], [], [1, 4], False), (198, 'Cheese Cake Dessert', [2], [], [9, 13], False), (202, 'Milchreis', [2], [], [12, 13], False), (127, 'Erbseneintopf mit Speck', [3], [1], [23, 24], True), (146, 'Bulgurschnitte \"Salsa\" mit Zaziki', [2], [], [1, 7, 13], True), (157, '1/2 Grillhähnchen mit Pommes frites', [5], [2], [24], True), (175, 'Mini Kartoffelknödel', [2], [], [13], False), (182, 'Apfelrotkohl mit Rotwein', [1, 6], [3], [], False), (190, 'Beilagensalat mit Essig-Öl-Dressing mit Sauerrahmdressing', [2], [3], [13, 24], False), (128, 'Auberginenpfanne nach orientlischer Art mit Paprika-Dip', [2], [], [13], True), (140, 'Fischstäbchen mit Remoulade', [7], [2, 9], [1, 7, 9, 10, 13, 24], True), (168, 'Erbseneintopf mit Speck, Gemüse und Kartoffeln', [3], [2, 3], [23, 24], True), (177, 'Kartoffelpüree mit Rahmspinat und Rührei', [2], [1], [9, 13], True), (185, 'Curryreis', [1], [1], [], False), (194, 'Frühlingsgemüse', [1], [1], [], False), (199, 'Eisbergsalat mit Essig-Öl-Dressing mit Joghurt-Dressing', [2], [], [13, 24], False), (204, 'Spaghetti Carbonara Art und Beilagensalat mit Essig-Öl-Dressing', [3], [1, 2, 3, 4, 8], [1, 7, 12, 13, 24], True), (129, 'Gemüseeintopf nach Pichelsteiner Art', [1], [1], [23], True), (138, 'Lachs-Spinat-Lasagne mit Tomatensauce', [7], [], [1, 7, 10, 13], True), (184, 'Pfirsichjoghurt', [2], [], [13], False), (191, 'Cappuccino Mousse', [2], [], [13], False), (130, 'Kohlrabi', [1], [1], [], False), (131, 'Hausgemachter veganer Erbseneintopf', [1], [1], [23, 24], True), (141, 'Balkangemüse', [1], [1], [23], False), (151, 'Gemüseschnitzel mit Sauce beàrnaise', [2], [], [1, 2, 7, 9, 13, 23], True), (158, 'Romanesco', [1], [1], [], False), (172, 'Risotto mit Serrano-Schinken, mit frischem Baby-Spinat und gehobeltem Grana Padano-Käse', [3, 4, 6], [1, 2, 3, 4], [13], True), (188, 'Gemüse-Burger mit Gemüse-Kartoffelpuffer, Pfefferkäse und Paprikasauce', [2], [1, 2, 3, 9], [1, 7, 9, 12, 13, 24, 25], True), (208, 'Kartoffelsuppe', [1], [1], [12, 23], False), (209, 'Mettendchen', [3, 4], [1, 2, 3, 4], [], True), (137, 'Linsensuppe', [1], [], [1, 7, 12], True), (181, 'Grießpudding', [1], [], [1, 7, 12], False), (145, 'Pfannengyros vom Schwein Zaziki, Krautsalat und Pommes frites', [3], [], [13], True), (161, 'Veganes Soja Dessert', [1], [8], [12], False), (162, 'Rahmspinat', [2], [1, 5], [13], False), (171, 'Lauchcremesuppe', [1], [1], [12], False), (147, 'Schwarzwurzeln', [1], [1, 2], [], False), (153, 'Vanillecreme', [2], [], [13], False), (167, 'Frisches Obst Äpfel:, Bananen:', [1], [], [], False), (173, 'Veganer Hafer-Beeren-Joghurt', [1], [], [1, 4], False), (187, 'Quarkspeise', [2], [], [13], False), (193, 'Frischer Obstsalat', [1], [3], [], False), (195, 'Grillwurst oder vegetarische Bratwurst', [3], [3], [1, 7, 9, 24], True), (200, 'Currywurst oder vegetarische Currywurst', [3], [3], [1, 7, 9, 24], True), (205, 'Frisches, großes, gegrilltes Hähnchen', [5], [], [24], True), (206, 'Pommes frites große Portion: 1,40€ / 2,10€', [], [], [], True), (156, 'Kirschquark', [2], [], [13], False), (165, 'Schokoladenpudding', [1, 2], [5], [12, 13], False), (1, 'Veganer Erbseneintopf', [1], [1], [23, 24], True), (6, 'Auberginenpfanne nach orientalischer Art', [1], [], [], True), (10, 'Kartoffelrösti mit mediterranem Gemüse', [2], [], [13], True), (13, 'Kartoffelpfanne mit Pilzen nach Hessischer Art', [1], [], [], True), (15, 'Köttbullar mit Preiselbeeren mit Rahmsauce', [3, 4], [], [13], True), (19, 'Hähnchennuggets in Knusperpanade mit Kartoffelcreme', [5], [2], [1, 7, 9, 13, 24], True), (23, 'Hokifilet nach Müllerin Art', [7], [], [1, 7, 10, 13, 24], True), (26, 'Rahmkohlrabi', [2], [], [13], False), (27, 'Paniertes Schweineschnitzel mit Champignonsauce', [3], [1], [1, 7, 9, 13], True), (30, 'Blumenkohl', [1], [], [], False), (31, 'Pizza mit Paprika und Zucchini', [2], [], [1, 7, 13, 23], True), (33, 'Chinakohlsalat mit Cocktaildressing', [2], [2], [1, 7, 9, 24], False), (36, 'Beilagensalat mit Balsamicodressing', [1], [1], [24], False), (39, 'Reis', [1], [1], [], False), (42, 'Reis-Gemüsepfanne', [1], [1, 3], [23], True), (45, 'Champignontasche mit Kräutersauce', [2], [], [1, 2, 7, 9, 13, 23], True), (46, 'Gemüsereis', [1], [], [23], False), (50, 'Pariser Möhren', [1], [1], [], False), (52, 'Currywurst mit Kräutercouscous', [3], [1, 2], [1, 7, 24], True), (53, 'Rosenkohl', [1], [], [], False), (55, 'Broccoli', [1], [1], [], False), (56, 'Beilagensalat mit Cocktaildressing', [2], [2], [1, 7, 9, 24], False), (58, 'Rahmwirsing', [2], [1], [13], False), (60, 'Bowl Orient mit Honig-Senfdressing', [2], [5], [1, 7, 24], True), (65, 'Lasagne Bolognese', [4], [1], [1, 7, 9, 13, 23], True), (67, 'Kartoffelecken Ratatouille mit Kartoffelcreme', [2], [1, 2], [9, 13, 24], True), (68, 'Schupfnudeln mit Paprikasauce', [2], [1], [1, 7, 9, 23], True), (70, 'Falafeln mit Tomatensauce', [1], [1], [1, 7], True), (72, 'Ratatouille', [1], [1], [], False), (74, 'Beilagensalat mit Essig-Öl-Dressing', [1], [3], [24], False), (75, 'Gefüllter Germknödel mit Pflaumenmus mit Vanillesauce', [2], [], [1, 7, 13], True), (78, 'Back-Camembert mit Preiselbeeren', [2], [], [1, 7, 13], True), (80, 'Salzkartoffeln \"Münsterlandknolle\"', [1], [1], [], False), (81, 'Bunter Falafelteller mit Falafeln, mit Zaziki', [1], [], [1, 7, 12, 24], True), (84, 'Bulgur-Gemüsepfanne', [1], [1], [1, 7], True), (85, 'Kichererbsen-Curry-Pfanne mit Paprika und Zucchini', [1], [], [], True), (86, 'Süßkartoffel-Curry mit Bohnen und Gemüsen', [1], [], [11], True), (90, 'Ricotta-Spinat-Cannelloni mit Tomatensauce', [2], [], [1, 7, 9, 13], True), (91, 'Pizza Prosciutto', [3], [2, 3, 4, 8], [1, 7, 13], True), (94, 'Chili con Carne-Eintopf', [4], [1, 3], [], True), (98, 'Frikadelle mit Currysauce', [3, 4], [], [1, 7, 9, 24], True), (102, 'Hausgemachter Asia-Eintopf mit Hühnerfleisch', [5], [2], [1, 7, 12, 24], True), (104, 'Sauerkraut', [1], [1], [], False), (106, 'Gemüsebrühe mit Nudeln und Ei', [2], [4], [1, 7, 9, 23], False), (109, 'Süßkartoffel-Curry mit Erdnüssen', [1], [], [11], True), (112, 'Broccoli mit Mandelblättchen', [1], [1], [14, 15], False), (113, 'Nudelauflauf mit Sojabolognese', [2], [], [1, 7, 12, 13], True)]"
   ]
  },
  {
   "cell_type": "code",
   "execution_count": 2,
   "metadata": {
    "collapsed": false
   },
   "outputs": [],
   "source": [
    "ids = []\n",
    "names = []\n",
    "all_names = []\n",
    "categories = []\n",
    "additives = []\n",
    "allergies = []\n",
    "main = []\n",
    "\n",
    "for d in dishes:\n",
    "    all_names.append(d[1])\n",
    "\n",
    "for d in dishes:\n",
    "    o0, o1, o2, o3, o4, o5 = d\n",
    "    if not o5:\n",
    "        continue\n",
    "\n",
    "    ids.append(o0)\n",
    "    names.append(o1)\n",
    "    categories.append(o2)\n",
    "    additives.append(o3)\n",
    "    allergies.append(o4)\n",
    "    main.append(o5)"
   ]
  },
  {
   "cell_type": "code",
   "execution_count": 36,
   "metadata": {
    "collapsed": false
   },
   "outputs": [
    {
     "name": "stdout",
     "output_type": "stream",
     "text": [
      "[2, 3, 4, 5, 8, 9, 11, 14, 16, 17, 18, 20, 21, 24, 25, 29, 32, 38, 41, 43, 44, 51, 57, 61, 66, 76, 77, 87, 89, 92, 93, 95, 96, 97, 100, 103, 108, 110, 111, 114, 133, 160, 118, 132, 149, 196, 152, 166, 122, 123, 174, 125, 142, 154, 163, 126, 136, 127, 146, 157, 128, 140, 168, 177, 204, 129, 138, 131, 151, 172, 188, 209, 137, 145, 195, 200, 205, 206, 1, 6, 10, 13, 15, 19, 23, 27, 31, 42, 45, 52, 60, 65, 67, 68, 70, 75, 78, 81, 84, 85, 86, 90, 91, 94, 98, 102, 109, 113]\n"
     ]
    }
   ],
   "source": [
    "print(ids)"
   ]
  },
  {
   "cell_type": "code",
   "execution_count": 3,
   "metadata": {
    "collapsed": false
   },
   "outputs": [],
   "source": [
    "def encode_binary(l):\n",
    "    max_val = max(l)[0]\n",
    "    res = []\n",
    "\n",
    "    for o in l:\n",
    "        part = []\n",
    "        for value in range(max_val):\n",
    "            part.append(1 if value in o else 0)\n",
    "        res.append(part)\n",
    "    return res"
   ]
  },
  {
   "cell_type": "code",
   "execution_count": 50,
   "metadata": {
    "collapsed": false
   },
   "outputs": [],
   "source": [
    "enc_cat = encode_binary(categories)\n",
    "enc_add = encode_binary(additives)\n",
    "enc_all = encode_binary(allergies)\n",
    "\n",
    "enc = []\n",
    "enc_cat_all = []\n",
    "enc_cat_add = []\n",
    "enc_all_add = []\n",
    "\n",
    "for i in range(len(enc_cat)):\n",
    "    enc.append(enc_cat[i] + enc_add[i] + enc_all[i])\n",
    "\n",
    "for i in range(len(enc_cat)):\n",
    "    enc_cat_all.append(enc_cat[i] + enc_all[i])\n",
    "    \n",
    "for i in range(len(enc_cat)):\n",
    "    enc_cat_add.append(enc_cat[i] + enc_add[i])\n",
    "    \n",
    "for i in range(len(enc_cat)):\n",
    "    enc_all_add.append(enc_add[i] + enc_all[i])\n"
   ]
  },
  {
   "cell_type": "code",
   "execution_count": 5,
   "metadata": {
    "collapsed": false
   },
   "outputs": [],
   "source": [
    "from numpy import dot\n",
    "from numpy.linalg import norm\n",
    "\n",
    "def cosine_similarity(l1, l2):\n",
    "    if len(l1) != len(l2):\n",
    "        raise ValueError(f\"Length of l1 ({len(l1)}) does not match length of \"\n",
    "                         f\"l2 ({len(l2)}).\")\n",
    "\n",
    "    norm_dis = norm(l1) * norm(l2)\n",
    "    if norm_dis == 0:\n",
    "        return 0\n",
    "\n",
    "    cos_sim = dot(l1, l2) / norm_dis\n",
    "    return cos_sim"
   ]
  },
  {
   "cell_type": "code",
   "execution_count": 6,
   "metadata": {
    "collapsed": false
   },
   "outputs": [],
   "source": [
    "import numpy as np\n",
    "from sentence_transformers import SentenceTransformer\n",
    "\n",
    "classifier: SentenceTransformer = SentenceTransformer('all-MiniLM-L6-v2')  # bigger: all-mpnet-base-v2\n",
    "embeds: np.ndarray = classifier.encode(names)\n",
    "all_embeds: np.ndarray = classifier.encode(all_names)"
   ]
  },
  {
   "cell_type": "code",
   "execution_count": 7,
   "metadata": {
    "collapsed": false
   },
   "outputs": [],
   "source": [
    "enc_bert = []\n",
    "enc_cat_bert = []\n",
    "\n",
    "for i in range(len(names)):\n",
    "    enc_bert.append(enc[i] + list(embeds[i]))\n",
    "    enc_cat_bert.append(enc_cat[i] + list(embeds[i]))"
   ]
  },
  {
   "cell_type": "markdown",
   "metadata": {
    "collapsed": false
   },
   "source": [
    "# Test Set Creation"
   ]
  },
  {
   "cell_type": "code",
   "execution_count": 44,
   "metadata": {
    "collapsed": false
   },
   "outputs": [],
   "source": [
    "def start_rating(iterations: int = 50):\n",
    "    user_name = input(\"What's your name?\")\n",
    "    if len(user_name) == 0:\n",
    "        print(\"You have to enter a name.\")\n",
    "        return\n",
    "\n",
    "    resulting_ratings = {}\n",
    "\n",
    "    indices: list = list(range(len(names)))\n",
    "    shuffle(indices)\n",
    "\n",
    "    for j in range(iterations):\n",
    "        if len(indices) == 0:\n",
    "            break\n",
    "        idx = indices.pop(0)\n",
    "\n",
    "        def take_rating(info_text: str = \"Available options: 1..5, ?\"):\n",
    "            rating = input(f\"What do you think about:      {j + 1}/{min(iterations, len(names))}\\n{names[idx]}\\n\\n{info_text}\")\n",
    "            if rating.isnumeric() and int(rating) == float(rating) and 0 < int(rating) <= 5:\n",
    "                resulting_ratings[ids[idx]] = float(rating) / 5.0\n",
    "                return False\n",
    "            elif len(rating) == 0:\n",
    "                # closing window\n",
    "                return True\n",
    "            elif rating == \"?\":\n",
    "                return False\n",
    "            else:\n",
    "                return take_rating(info_text=\"Please use on of the following options: 1..5, ?, exit\")\n",
    "\n",
    "        if take_rating():\n",
    "            break\n",
    "\n",
    "    return user_name, resulting_ratings"
   ]
  },
  {
   "cell_type": "code",
   "execution_count": 8,
   "metadata": {
    "collapsed": false
   },
   "outputs": [
    {
     "ename": "NameError",
     "evalue": "name 'start_rating' is not defined",
     "output_type": "error",
     "traceback": [
      "\u001b[1;31m---------------------------------------------------------------------------\u001b[0m",
      "\u001b[1;31mNameError\u001b[0m                                 Traceback (most recent call last)",
      "Cell \u001b[1;32mIn [8], line 1\u001b[0m\n\u001b[1;32m----> 1\u001b[0m name, ratings \u001b[39m=\u001b[39m start_rating(iterations\u001b[39m=\u001b[39m\u001b[39m9999\u001b[39m)\n\u001b[0;32m      3\u001b[0m \u001b[39mprint\u001b[39m(\u001b[39mf\u001b[39m\u001b[39m\"\u001b[39m\u001b[39m{\u001b[39;00mname\u001b[39m}\u001b[39;00m\u001b[39m, here are your ratings:\u001b[39m\u001b[39m\\n\u001b[39;00m\u001b[39m\"\u001b[39m, ratings)\n",
      "\u001b[1;31mNameError\u001b[0m: name 'start_rating' is not defined"
     ]
    }
   ],
   "source": [
    "name, ratings = start_rating(iterations=9999)\n",
    "\n",
    "print(f\"{name}, here are your ratings:\\n\", ratings)"
   ]
  },
  {
   "cell_type": "code",
   "execution_count": 37,
   "metadata": {
    "collapsed": false
   },
   "outputs": [
    {
     "name": "stdout",
     "output_type": "stream",
     "text": [
      "{2: 0.2, 3: 0.2, 4: 0.2, 5: 0.2, 8: 0.2, 9: 0.2, 11: 0.2, 14: 0.2, 16: 1.0, 17: 0.2, 18: 1.0, 20: 0.2, 21: 0.2, 24: 0.2, 25: 0.2, 29: 0.2, 32: 0.2, 38: 0.2, 41: 0.2, 43: 0.2, 44: 0.2, 51: 1.0, 57: 0.2, 61: 1.0, 66: 0.2, 76: 0.2, 77: 0.2, 87: 0.2, 89: 0.2, 92: 0.2, 93: 1.0, 95: 0.2, 96: 0.2, 97: 0.2, 100: 0.2, 103: 0.2, 108: 0.2, 110: 1.0, 111: 1.0, 114: 0.2, 133: 0.2, 160: 0.2, 118: 0.2, 132: 0.2, 149: 1.0, 196: 0.2, 152: 0.2, 166: 1.0, 122: 0.2, 123: 1.0, 174: 1.0, 125: 0.2, 142: 0.2, 154: 1.0, 163: 0.2, 126: 0.2, 136: 1.0, 127: 1.0, 146: 0.2, 157: 0.2, 128: 0.2, 140: 0.2, 168: 1.0, 177: 0.2, 204: 1.0, 129: 0.2, 138: 0.2, 131: 0.2, 151: 0.2, 172: 1.0, 188: 0.2, 209: 1.0, 137: 0.2, 145: 1.0, 195: 1.0, 200: 1.0, 205: 0.2, 206: 0.2, 1: 0.2, 6: 0.2, 10: 0.2, 13: 0.2, 15: 1.0, 19: 0.2, 23: 0.2, 27: 1.0, 31: 0.2, 42: 0.2, 45: 0.2, 52: 1.0, 60: 0.2, 65: 0.2, 67: 0.2, 68: 0.2, 70: 0.2, 75: 0.2, 78: 0.2, 81: 0.2, 84: 0.2, 85: 0.2, 86: 0.2, 90: 0.2, 91: 1.0, 94: 0.2, 98: 1.0, 102: 0.2, 109: 0.2, 113: 0.2}\n"
     ]
    }
   ],
   "source": [
    "pork_ratings = {}\n",
    "for dish in dishes:\n",
    "    if not dish[5]:\n",
    "        continue\n",
    "\n",
    "    dish_id = dish[0]\n",
    "    cat = dish[2]\n",
    "    pork_ratings[dish_id] = 1.0 if 3 in cat else 0.2\n",
    "print(pork_ratings)"
   ]
  },
  {
   "cell_type": "code",
   "execution_count": 49,
   "metadata": {
    "collapsed": false
   },
   "outputs": [
    {
     "name": "stdout",
     "output_type": "stream",
     "text": [
      "{1: 0.2, 2: 0.7042, 3: 0.7276, 4: 0.5079, 5: 0.758, 8: 0.5176, 9: 0.6425, 11: 0.8802, 14: 0.9694, 16: 0.7233, 17: 0.4146, 18: 0.5011, 20: 0.7836, 21: 0.9645, 24: 0.8092, 25: 0.9519, 29: 0.9766, 32: 0.4233, 38: 0.6176, 41: 0.4526, 43: 0.8856, 44: 0.5217, 51: 0.5993, 57: 0.6579, 61: 0.9917, 66: 0.8501, 76: 0.5912, 77: 0.7741, 87: 0.9311, 89: 0.8558, 92: 0.7903, 93: 0.7434, 95: 0.8913, 96: 0.7233, 97: 0.8535, 100: 0.6085, 103: 0.5818, 108: 0.8397, 110: 0.4139, 111: 0.9112, 114: 0.6018, 133: 0.8676, 160: 0.4306, 118: 0.4706, 132: 0.7314, 149: 0.7403, 196: 0.7633, 152: 0.6401, 166: 0.4747, 122: 0.9236, 123: 0.899, 174: 0.7336, 125: 0.709, 142: 0.6681, 154: 0.5388, 163: 0.9873, 126: 0.7647, 136: 0.455, 127: 0.7395, 146: 0.7003, 157: 0.6705, 128: 0.6866, 140: 0.5045, 168: 0.452, 177: 0.8849, 204: 0.4059, 129: 0.5684, 138: 0.8761, 131: 0.8779, 151: 0.4887, 172: 0.7998, 188: 0.5891, 209: 0.7907, 137: 0.6757, 145: 0.5632, 195: 0.6122, 200: 0.9229, 205: 0.7075, 206: 0.5517, 6: 0.4243, 10: 0.7488, 13: 0.4364, 15: 0.9226, 19: 0.618, 23: 0.9711, 27: 0.6237, 31: 0.8872, 42: 0.984, 45: 0.5126, 52: 0.52, 60: 0.6213, 65: 0.8177, 67: 0.6842, 68: 0.735, 70: 0.7001, 75: 0.4675, 78: 0.5444, 81: 0.8341, 84: 0.8215, 85: 0.8777, 86: 0.8536, 90: 0.831, 91: 0.6364, 94: 0.5197, 98: 0.7459, 102: 0.583, 109: 0.5014, 113: 0.5238}\n"
     ]
    }
   ],
   "source": [
    "from random import random\n",
    "\n",
    "erbseneintopf_ratings = {1: 0.2}\n",
    "for dish in dishes:\n",
    "    if not dish[5] or dish[0] == 1:\n",
    "        continue\n",
    "\n",
    "    dish_id = dish[0]\n",
    "    cat = dish[2]\n",
    "    erbseneintopf_ratings[dish_id] = round(random() * 0.6 + 0.4, 4)\n",
    "print(erbseneintopf_ratings)"
   ]
  },
  {
   "cell_type": "code",
   "execution_count": 90,
   "metadata": {
    "collapsed": false
   },
   "outputs": [],
   "source": [
    "own_ratings = {93: 0.8, 177: 0.6, 8: 0.8, 57: 0.6, 108: 0.6, 23: 0.8, 5: 0.6, 113: 0.8, 206: 0.8, 163: 0.6, 19: 1.0, 89: 0.6, 68: 0.8, 136: 1.0, 195: 0.8, 142: 0.8, 97: 0.6, 92: 0.4, 15: 1.0, 196: 0.8, 25: 0.2, 205: 1.0, 27: 1.0, 126: 0.6, 110: 0.2, 90: 0.6, 10: 0.8, 60: 0.6, 157: 0.8, 41: 0.8, 9: 0.8, 172: 0.8, 146: 0.6, 91: 0.8, 131: 0.8, 76: 1.0, 114: 0.8, 209: 0.6, 81: 0.4, 38: 1.0, 45: 0.6, 3: 0.6, 154: 0.8, 152: 0.2, 98: 0.6, 188: 0.6, 31: 0.6, 85: 0.2, 86: 0.4, 103: 0.8, 32: 0.8, 6: 0.4, 95: 0.8, 17: 0.8, 16: 0.8, 70: 0.4, 122: 0.6, 174: 0.6, 123: 0.6, 168: 0.8, 132: 1.0, 78: 0.2, 21: 1.0, 128: 0.2, 11: 1.0, 109: 0.2, 138: 0.4, 77: 0.2, 204: 0.6, 18: 0.8, 44: 0.6, 118: 0.4, 149: 0.6, 29: 0.6, 87: 0.8, 43: 1.0, 4: 0.4, 66: 0.8, 51: 0.8, 94: 0.8, 52: 0.6, 133: 0.2, 137: 0.6, 111: 0.6, 102: 0.8, 65: 0.8, 129: 0.6, 100: 0.8, 20: 0.2, 61: 0.4, 145: 0.8, 200: 0.8, 166: 0.8, 42: 0.8, 151: 0.6, 127: 0.8, 96: 0.6, 2: 0.6, 75: 0.2, 67: 0.6, 84: 0.4, 160: 0.2, 13: 0.6, 14: 0.4, 1: 0.4, 125: 0.6, 140: 0.8, 24: 0.6}"
   ]
  },
  {
   "cell_type": "code",
   "execution_count": 9,
   "metadata": {},
   "outputs": [],
   "source": [
    "own_ratings = {93: 1.0, 81: 0.6, 157: 0.6, 84: 0.8, 65: 1.0, 1: 0.4, 195: 0.4, 126: 0.6, 204: 0.8, 168: 0.4, 76: 0.4, 51: 0.8, 102: 1.0, 152: 0.4, 146: 0.8, 166: 0.2, 110: 0.8, 94: 0.8, 140: 0.6, 70: 0.4}"
   ]
  },
  {
   "cell_type": "code",
   "execution_count": 76,
   "metadata": {
    "collapsed": false
   },
   "outputs": [
    {
     "data": {
      "text/plain": [
       "0.52103144"
      ]
     },
     "execution_count": 76,
     "metadata": {},
     "output_type": "execute_result"
    }
   ],
   "source": [
    "# 19, 71\n",
    "cosine_similarity(all_embeds[all_names.index(\"1/2 Grillhähnchen mit Pommes frites\")], all_embeds[all_names.index(\"Pommes Frites\")])"
   ]
  },
  {
   "cell_type": "markdown",
   "metadata": {
    "collapsed": false
   },
   "source": [
    "# Recommendation\n",
    "###### based on content-based filtering"
   ]
  },
  {
   "cell_type": "code",
   "execution_count": 92,
   "metadata": {
    "collapsed": false
   },
   "outputs": [],
   "source": [
    "from math import pow\n",
    "import random\n",
    "\n",
    "\n",
    "def get_profile(user_ratings, encodings):\n",
    "    x = [0] * len(encodings[0])\n",
    "    for item_id in user_ratings:\n",
    "        x += np.multiply(user_ratings[item_id], encodings[ids.index(item_id)])\n",
    "    return x\n",
    "\n",
    "def compute_similarities(profile, encodings):\n",
    "    sim = []\n",
    "    for j in range(len(encodings)):\n",
    "        sim.append(cosine_similarity(profile, encodings[j]))\n",
    "    return sim\n",
    "\n",
    "def distance(user_ratings, encodings, split: float = 0.6):\n",
    "    user_ratings = user_ratings.copy()\n",
    "    test_set = {}\n",
    "    keys = list(user_ratings.keys())\n",
    "    random.seed(10)\n",
    "    random.shuffle(keys)\n",
    "\n",
    "    for j in range(int(len(user_ratings) * split)):\n",
    "        key = keys.pop()\n",
    "        test_set[key] = user_ratings.pop(key)\n",
    "\n",
    "\n",
    "    X = get_profile(user_ratings, encodings)\n",
    "    sim = compute_similarities(X, encodings)\n",
    "    \n",
    "\n",
    "\n",
    "    dist_train = 0\n",
    "    dist_test = 0\n",
    "    for j in range(len(sim)):\n",
    "        item_id = ids[j]\n",
    "        if item_id in user_ratings:\n",
    "            dist_train += pow(user_ratings[item_id] - sim[j], 2)\n",
    "        if item_id in test_set:\n",
    "            dist_test += pow(test_set[item_id] - sim[j], 2)\n",
    "    return round(dist_train, 6), round(dist_train / len(user_ratings), 6), round(dist_test, 6), round(dist_test / len(test_set), 6), len(X)\n",
    "\n",
    "def get_score(user_ratings, encodings, split: float = 0.6):\n",
    "    user_ratings = user_ratings.copy()\n",
    "    test_set = {}\n",
    "    keys = list(user_ratings.keys())\n",
    "    random.shuffle(keys)\n",
    "\n",
    "    for j in range(int(len(user_ratings) * split)):\n",
    "        key = keys.pop()\n",
    "        test_set[key] = user_ratings.pop(key)\n",
    "\n",
    "\n",
    "    X = get_profile(user_ratings, encodings)\n",
    "    sim = compute_similarities(X, encodings)\n",
    "    \n",
    "\n",
    "    results = []\n",
    "    for j in range(len(sim)):\n",
    "        item_id = ids[j]\n",
    "        if item_id in user_ratings:\n",
    "            #results.append((sim[j], user_ratings[item_id]))\n",
    "            #results.append(1 if round(sim[j])==round(user_ratings[item_id]) else 0)\n",
    "            results.append(1 if abs(sim[j]-user_ratings[item_id])<0.1 else 0)\n",
    "    return results"
   ]
  },
  {
   "cell_type": "code",
   "execution_count": 27,
   "metadata": {},
   "outputs": [],
   "source": [
    "user_profile = get_profile(own_ratings, enc_bert)"
   ]
  },
  {
   "cell_type": "code",
   "execution_count": 32,
   "metadata": {},
   "outputs": [],
   "source": [
    "sim = compute_similarities(user_profile, enc_bert)"
   ]
  },
  {
   "cell_type": "code",
   "execution_count": 34,
   "metadata": {},
   "outputs": [
    {
     "data": {
      "text/plain": [
       "108"
      ]
     },
     "execution_count": 34,
     "metadata": {},
     "output_type": "execute_result"
    }
   ],
   "source": [
    "len(sim)"
   ]
  },
  {
   "cell_type": "markdown",
   "metadata": {
    "collapsed": false
   },
   "source": [
    "Dimension Reduction"
   ]
  },
  {
   "cell_type": "code",
   "execution_count": 4,
   "metadata": {
    "collapsed": false
   },
   "outputs": [],
   "source": [
    "from typing import Tuple\n",
    "from tqdm import tqdm\n",
    "\n",
    "\n",
    "def distance_with_dim_sel(user_ratings, encodings, dims, split: float = 0) -> Tuple[float, float]:\n",
    "    selected = []\n",
    "    for value in encodings:\n",
    "        item = []\n",
    "        for dim in dims:\n",
    "            item.append(value[dim])\n",
    "        selected.append(item)\n",
    "\n",
    "    _, mse, _, mse_test, _ = distance(user_ratings, selected, split=split)\n",
    "    return mse, mse_test\n",
    "\n",
    "def feature_selection(user_ratings, encodings, max_dims: int = 50, early_stop: bool = True) -> [int]:\n",
    "    fixed = []\n",
    "    last_mse = -1\n",
    "    dimensions = list(range(len(encodings[0])))\n",
    "    best_mse_ever = 9999999999\n",
    "\n",
    "    for _ in tqdm(range(min(max_dims, len(encodings[0])))):\n",
    "        best_dim: int = -1\n",
    "        best_dim_mse: float = 0\n",
    "\n",
    "        for j in dimensions:\n",
    "            fixed_copy = fixed.copy()\n",
    "            fixed_copy.append(j)\n",
    "            mse = distance_with_dim_sel(user_ratings, encodings, fixed_copy)[0]\n",
    "\n",
    "            if best_dim == -1 or mse < best_dim_mse:\n",
    "                best_dim = j\n",
    "                best_dim_mse = mse\n",
    "\n",
    "        if early_stop and 0 < last_mse < best_dim_mse:\n",
    "            print(\"early stopped\")\n",
    "            break\n",
    "\n",
    "        best_mse_ever = min(best_mse_ever, best_dim_mse)\n",
    "        last_mse = best_dim_mse\n",
    "        fixed.append(best_dim)\n",
    "        dimensions.remove(best_dim)\n",
    "    return fixed, distance_with_dim_sel(user_ratings, encodings, fixed), best_mse_ever"
   ]
  },
  {
   "cell_type": "code",
   "execution_count": 197,
   "metadata": {
    "collapsed": false
   },
   "outputs": [
    {
     "name": "stderr",
     "output_type": "stream",
     "text": [
      "100%|██████████| 55/55 [01:01<00:00,  1.13s/it]"
     ]
    },
    {
     "name": "stdout",
     "output_type": "stream",
     "text": [
      "55 0.0349 0.0348\n",
      "Done in 61.97973871231079s\n",
      "13 42\n"
     ]
    },
    {
     "name": "stderr",
     "output_type": "stream",
     "text": [
      "\n"
     ]
    }
   ],
   "source": [
    "from time import time\n",
    "\n",
    "t = time()\n",
    "selected_dims, best_mse, best_mse_test, best_mse_es = feature_selection(own_ratings, enc_bert, max_dims=int(len(enc[0]) * 1.5), early_stop=False)\n",
    "print(len(selected_dims), best_mse, best_mse_es)\n",
    "print(f\"Done in {time() - t}s\")\n",
    "\n",
    "input_split = len(enc[0])\n",
    "s0 = 0\n",
    "s1 = 0\n",
    "\n",
    "for dim in selected_dims:\n",
    "    if dim < input_split:\n",
    "        s0 += 1\n",
    "    else:\n",
    "        s1 += 1\n",
    "print(s0, s1)"
   ]
  },
  {
   "cell_type": "code",
   "execution_count": 253,
   "metadata": {
    "collapsed": false
   },
   "outputs": [
    {
     "name": "stdout",
     "output_type": "stream",
     "text": [
      "With split: (0.035438, 0.033117)\n"
     ]
    }
   ],
   "source": [
    "print(f\"With split:\", distance_with_dim_sel(own_ratings, enc_bert, selected_dims, split=0.3))"
   ]
  },
  {
   "cell_type": "code",
   "execution_count": 39,
   "metadata": {},
   "outputs": [],
   "source": [
    "import math"
   ]
  },
  {
   "cell_type": "code",
   "execution_count": 105,
   "metadata": {
    "collapsed": false
   },
   "outputs": [],
   "source": [
    "def measure_encodings(user_ratings, enc_list: list) -> None:\n",
    "    print(f\"Recommendations based on {len(user_ratings)} ratings.\")\n",
    "\n",
    "    results = []\n",
    "    for encoding in enc_list:\n",
    "        results.append((distance(user_ratings, encoding[0]), encoding[1],0.00001))\n",
    "        \n",
    "\n",
    "    best_res_abs = 9999\n",
    "    best_res_mse = 9999\n",
    "\n",
    "    for r in results:\n",
    "        best_res_abs = min(best_res_abs, math.sqrt(r[0][1]))\n",
    "        best_res_mse = min(best_res_mse, r[0][3])\n",
    "        \n",
    "    mse_result = []\n",
    "\n",
    "    for r in results:\n",
    "        r_abs = f\"\\x1B[4m{r[0][1]}\\x1B[0m\" if best_res_abs == r[0][1] else r[0][1]\n",
    "        r_mse = f\"\\x1B[4m{r[0][3]}\\x1B[0m\" if best_res_mse == r[0][3] else r[0][3]\n",
    "        mse_result.append([r_abs, r[1]])\n",
    "        print(r_abs, r_mse, f\": {r[1]}\", \":\", r[0][4])\n",
    "        \n",
    "    return mse_result"
   ]
  },
  {
   "cell_type": "code",
   "execution_count": 106,
   "metadata": {
    "collapsed": false
   },
   "outputs": [
    {
     "name": "stdout",
     "output_type": "stream",
     "text": [
      "Recommendations based on 20 ratings.\n",
      "0.136711 0.183138 : Only dish categories : 7\n",
      "0.076012 0.246816 : Only dish allergies : 24\n",
      "0.201784 0.11689 : Only dish additives : 6\n",
      "0.051226 0.148614 : categories and allergies : 31\n",
      "0.116973 0.106855 : categories and additives : 13\n",
      "0.040282 0.122468 : allergies and additives : 30\n",
      "0.038231 0.102447 : categories, additives, allergies : 37\n",
      "0.034038 0.089222 : categories, additives, allergies + BERT embeds : 421\n",
      "0.03545 \u001b[4m0.085909\u001b[0m : BERT embeds : 384\n"
     ]
    }
   ],
   "source": [
    "mse = measure_encodings(own_ratings, [\n",
    "    (enc_cat, \"Only dish categories\"),\n",
    "    (enc_all, \"Only dish allergies\"),\n",
    "    (enc_add, \"Only dish additives\"),\n",
    "    (enc_cat_all, \"categories and allergies\"),\n",
    "    (enc_cat_add, \"categories and additives\"),\n",
    "    (enc_all_add, \"allergies and additives\"),\n",
    "    (enc, \"categories, additives, allergies\"),\n",
    "    # (enc_cat_bert, \"Only dish categories + BERT\"),\n",
    "    (enc_bert, \"categories, additives, allergies + BERT embeds\"),\n",
    "    (embeds, \"BERT embeds\"),\n",
    "])"
   ]
  },
  {
   "cell_type": "code",
   "execution_count": 110,
   "metadata": {},
   "outputs": [],
   "source": [
    "import plotly.express as px\n",
    "import pandas as pd\n",
    "df = pd.DataFrame(mse, columns = ['mse', 'combination'])"
   ]
  },
  {
   "cell_type": "code",
   "execution_count": 116,
   "metadata": {},
   "outputs": [
    {
     "data": {
      "application/vnd.plotly.v1+json": {
       "config": {
        "plotlyServerURL": "https://plot.ly"
       },
       "data": [
        {
         "alignmentgroup": "True",
         "hovertemplate": "combination=%{x}<br>mse=%{y}<extra></extra>",
         "legendgroup": "",
         "marker": {
          "color": "#636efa",
          "pattern": {
           "shape": ""
          }
         },
         "name": "",
         "offsetgroup": "",
         "orientation": "v",
         "showlegend": false,
         "textposition": "auto",
         "texttemplate": "%{y}",
         "type": "bar",
         "x": [
          "Only dish categories",
          "Only dish allergies",
          "Only dish additives",
          "categories and allergies",
          "categories and additives",
          "allergies and additives",
          "categories, additives, allergies",
          "categories, additives, allergies + BERT embeds",
          "BERT embeds"
         ],
         "xaxis": "x",
         "y": [
          0.136711,
          0.076012,
          0.201784,
          0.051226,
          0.116973,
          0.040282,
          0.038231,
          0.034038,
          0.03545
         ],
         "yaxis": "y"
        }
       ],
       "layout": {
        "barmode": "stack",
        "legend": {
         "tracegroupgap": 0
        },
        "template": {
         "data": {
          "bar": [
           {
            "error_x": {
             "color": "#2a3f5f"
            },
            "error_y": {
             "color": "#2a3f5f"
            },
            "marker": {
             "line": {
              "color": "#E5ECF6",
              "width": 0.5
             },
             "pattern": {
              "fillmode": "overlay",
              "size": 10,
              "solidity": 0.2
             }
            },
            "type": "bar"
           }
          ],
          "barpolar": [
           {
            "marker": {
             "line": {
              "color": "#E5ECF6",
              "width": 0.5
             },
             "pattern": {
              "fillmode": "overlay",
              "size": 10,
              "solidity": 0.2
             }
            },
            "type": "barpolar"
           }
          ],
          "carpet": [
           {
            "aaxis": {
             "endlinecolor": "#2a3f5f",
             "gridcolor": "white",
             "linecolor": "white",
             "minorgridcolor": "white",
             "startlinecolor": "#2a3f5f"
            },
            "baxis": {
             "endlinecolor": "#2a3f5f",
             "gridcolor": "white",
             "linecolor": "white",
             "minorgridcolor": "white",
             "startlinecolor": "#2a3f5f"
            },
            "type": "carpet"
           }
          ],
          "choropleth": [
           {
            "colorbar": {
             "outlinewidth": 0,
             "ticks": ""
            },
            "type": "choropleth"
           }
          ],
          "contour": [
           {
            "colorbar": {
             "outlinewidth": 0,
             "ticks": ""
            },
            "colorscale": [
             [
              0,
              "#0d0887"
             ],
             [
              0.1111111111111111,
              "#46039f"
             ],
             [
              0.2222222222222222,
              "#7201a8"
             ],
             [
              0.3333333333333333,
              "#9c179e"
             ],
             [
              0.4444444444444444,
              "#bd3786"
             ],
             [
              0.5555555555555556,
              "#d8576b"
             ],
             [
              0.6666666666666666,
              "#ed7953"
             ],
             [
              0.7777777777777778,
              "#fb9f3a"
             ],
             [
              0.8888888888888888,
              "#fdca26"
             ],
             [
              1,
              "#f0f921"
             ]
            ],
            "type": "contour"
           }
          ],
          "contourcarpet": [
           {
            "colorbar": {
             "outlinewidth": 0,
             "ticks": ""
            },
            "type": "contourcarpet"
           }
          ],
          "heatmap": [
           {
            "colorbar": {
             "outlinewidth": 0,
             "ticks": ""
            },
            "colorscale": [
             [
              0,
              "#0d0887"
             ],
             [
              0.1111111111111111,
              "#46039f"
             ],
             [
              0.2222222222222222,
              "#7201a8"
             ],
             [
              0.3333333333333333,
              "#9c179e"
             ],
             [
              0.4444444444444444,
              "#bd3786"
             ],
             [
              0.5555555555555556,
              "#d8576b"
             ],
             [
              0.6666666666666666,
              "#ed7953"
             ],
             [
              0.7777777777777778,
              "#fb9f3a"
             ],
             [
              0.8888888888888888,
              "#fdca26"
             ],
             [
              1,
              "#f0f921"
             ]
            ],
            "type": "heatmap"
           }
          ],
          "heatmapgl": [
           {
            "colorbar": {
             "outlinewidth": 0,
             "ticks": ""
            },
            "colorscale": [
             [
              0,
              "#0d0887"
             ],
             [
              0.1111111111111111,
              "#46039f"
             ],
             [
              0.2222222222222222,
              "#7201a8"
             ],
             [
              0.3333333333333333,
              "#9c179e"
             ],
             [
              0.4444444444444444,
              "#bd3786"
             ],
             [
              0.5555555555555556,
              "#d8576b"
             ],
             [
              0.6666666666666666,
              "#ed7953"
             ],
             [
              0.7777777777777778,
              "#fb9f3a"
             ],
             [
              0.8888888888888888,
              "#fdca26"
             ],
             [
              1,
              "#f0f921"
             ]
            ],
            "type": "heatmapgl"
           }
          ],
          "histogram": [
           {
            "marker": {
             "pattern": {
              "fillmode": "overlay",
              "size": 10,
              "solidity": 0.2
             }
            },
            "type": "histogram"
           }
          ],
          "histogram2d": [
           {
            "colorbar": {
             "outlinewidth": 0,
             "ticks": ""
            },
            "colorscale": [
             [
              0,
              "#0d0887"
             ],
             [
              0.1111111111111111,
              "#46039f"
             ],
             [
              0.2222222222222222,
              "#7201a8"
             ],
             [
              0.3333333333333333,
              "#9c179e"
             ],
             [
              0.4444444444444444,
              "#bd3786"
             ],
             [
              0.5555555555555556,
              "#d8576b"
             ],
             [
              0.6666666666666666,
              "#ed7953"
             ],
             [
              0.7777777777777778,
              "#fb9f3a"
             ],
             [
              0.8888888888888888,
              "#fdca26"
             ],
             [
              1,
              "#f0f921"
             ]
            ],
            "type": "histogram2d"
           }
          ],
          "histogram2dcontour": [
           {
            "colorbar": {
             "outlinewidth": 0,
             "ticks": ""
            },
            "colorscale": [
             [
              0,
              "#0d0887"
             ],
             [
              0.1111111111111111,
              "#46039f"
             ],
             [
              0.2222222222222222,
              "#7201a8"
             ],
             [
              0.3333333333333333,
              "#9c179e"
             ],
             [
              0.4444444444444444,
              "#bd3786"
             ],
             [
              0.5555555555555556,
              "#d8576b"
             ],
             [
              0.6666666666666666,
              "#ed7953"
             ],
             [
              0.7777777777777778,
              "#fb9f3a"
             ],
             [
              0.8888888888888888,
              "#fdca26"
             ],
             [
              1,
              "#f0f921"
             ]
            ],
            "type": "histogram2dcontour"
           }
          ],
          "mesh3d": [
           {
            "colorbar": {
             "outlinewidth": 0,
             "ticks": ""
            },
            "type": "mesh3d"
           }
          ],
          "parcoords": [
           {
            "line": {
             "colorbar": {
              "outlinewidth": 0,
              "ticks": ""
             }
            },
            "type": "parcoords"
           }
          ],
          "pie": [
           {
            "automargin": true,
            "type": "pie"
           }
          ],
          "scatter": [
           {
            "fillpattern": {
             "fillmode": "overlay",
             "size": 10,
             "solidity": 0.2
            },
            "type": "scatter"
           }
          ],
          "scatter3d": [
           {
            "line": {
             "colorbar": {
              "outlinewidth": 0,
              "ticks": ""
             }
            },
            "marker": {
             "colorbar": {
              "outlinewidth": 0,
              "ticks": ""
             }
            },
            "type": "scatter3d"
           }
          ],
          "scattercarpet": [
           {
            "marker": {
             "colorbar": {
              "outlinewidth": 0,
              "ticks": ""
             }
            },
            "type": "scattercarpet"
           }
          ],
          "scattergeo": [
           {
            "marker": {
             "colorbar": {
              "outlinewidth": 0,
              "ticks": ""
             }
            },
            "type": "scattergeo"
           }
          ],
          "scattergl": [
           {
            "marker": {
             "colorbar": {
              "outlinewidth": 0,
              "ticks": ""
             }
            },
            "type": "scattergl"
           }
          ],
          "scattermapbox": [
           {
            "marker": {
             "colorbar": {
              "outlinewidth": 0,
              "ticks": ""
             }
            },
            "type": "scattermapbox"
           }
          ],
          "scatterpolar": [
           {
            "marker": {
             "colorbar": {
              "outlinewidth": 0,
              "ticks": ""
             }
            },
            "type": "scatterpolar"
           }
          ],
          "scatterpolargl": [
           {
            "marker": {
             "colorbar": {
              "outlinewidth": 0,
              "ticks": ""
             }
            },
            "type": "scatterpolargl"
           }
          ],
          "scatterternary": [
           {
            "marker": {
             "colorbar": {
              "outlinewidth": 0,
              "ticks": ""
             }
            },
            "type": "scatterternary"
           }
          ],
          "surface": [
           {
            "colorbar": {
             "outlinewidth": 0,
             "ticks": ""
            },
            "colorscale": [
             [
              0,
              "#0d0887"
             ],
             [
              0.1111111111111111,
              "#46039f"
             ],
             [
              0.2222222222222222,
              "#7201a8"
             ],
             [
              0.3333333333333333,
              "#9c179e"
             ],
             [
              0.4444444444444444,
              "#bd3786"
             ],
             [
              0.5555555555555556,
              "#d8576b"
             ],
             [
              0.6666666666666666,
              "#ed7953"
             ],
             [
              0.7777777777777778,
              "#fb9f3a"
             ],
             [
              0.8888888888888888,
              "#fdca26"
             ],
             [
              1,
              "#f0f921"
             ]
            ],
            "type": "surface"
           }
          ],
          "table": [
           {
            "cells": {
             "fill": {
              "color": "#EBF0F8"
             },
             "line": {
              "color": "white"
             }
            },
            "header": {
             "fill": {
              "color": "#C8D4E3"
             },
             "line": {
              "color": "white"
             }
            },
            "type": "table"
           }
          ]
         },
         "layout": {
          "annotationdefaults": {
           "arrowcolor": "#2a3f5f",
           "arrowhead": 0,
           "arrowwidth": 1
          },
          "autotypenumbers": "strict",
          "coloraxis": {
           "colorbar": {
            "outlinewidth": 0,
            "ticks": ""
           }
          },
          "colorscale": {
           "diverging": [
            [
             0,
             "#8e0152"
            ],
            [
             0.1,
             "#c51b7d"
            ],
            [
             0.2,
             "#de77ae"
            ],
            [
             0.3,
             "#f1b6da"
            ],
            [
             0.4,
             "#fde0ef"
            ],
            [
             0.5,
             "#f7f7f7"
            ],
            [
             0.6,
             "#e6f5d0"
            ],
            [
             0.7,
             "#b8e186"
            ],
            [
             0.8,
             "#7fbc41"
            ],
            [
             0.9,
             "#4d9221"
            ],
            [
             1,
             "#276419"
            ]
           ],
           "sequential": [
            [
             0,
             "#0d0887"
            ],
            [
             0.1111111111111111,
             "#46039f"
            ],
            [
             0.2222222222222222,
             "#7201a8"
            ],
            [
             0.3333333333333333,
             "#9c179e"
            ],
            [
             0.4444444444444444,
             "#bd3786"
            ],
            [
             0.5555555555555556,
             "#d8576b"
            ],
            [
             0.6666666666666666,
             "#ed7953"
            ],
            [
             0.7777777777777778,
             "#fb9f3a"
            ],
            [
             0.8888888888888888,
             "#fdca26"
            ],
            [
             1,
             "#f0f921"
            ]
           ],
           "sequentialminus": [
            [
             0,
             "#0d0887"
            ],
            [
             0.1111111111111111,
             "#46039f"
            ],
            [
             0.2222222222222222,
             "#7201a8"
            ],
            [
             0.3333333333333333,
             "#9c179e"
            ],
            [
             0.4444444444444444,
             "#bd3786"
            ],
            [
             0.5555555555555556,
             "#d8576b"
            ],
            [
             0.6666666666666666,
             "#ed7953"
            ],
            [
             0.7777777777777778,
             "#fb9f3a"
            ],
            [
             0.8888888888888888,
             "#fdca26"
            ],
            [
             1,
             "#f0f921"
            ]
           ]
          },
          "colorway": [
           "#636efa",
           "#EF553B",
           "#00cc96",
           "#ab63fa",
           "#FFA15A",
           "#19d3f3",
           "#FF6692",
           "#B6E880",
           "#FF97FF",
           "#FECB52"
          ],
          "font": {
           "color": "#2a3f5f"
          },
          "geo": {
           "bgcolor": "white",
           "lakecolor": "white",
           "landcolor": "#E5ECF6",
           "showlakes": true,
           "showland": true,
           "subunitcolor": "white"
          },
          "hoverlabel": {
           "align": "left"
          },
          "hovermode": "closest",
          "mapbox": {
           "style": "light"
          },
          "paper_bgcolor": "white",
          "plot_bgcolor": "#E5ECF6",
          "polar": {
           "angularaxis": {
            "gridcolor": "white",
            "linecolor": "white",
            "ticks": ""
           },
           "bgcolor": "#E5ECF6",
           "radialaxis": {
            "gridcolor": "white",
            "linecolor": "white",
            "ticks": ""
           }
          },
          "scene": {
           "xaxis": {
            "backgroundcolor": "#E5ECF6",
            "gridcolor": "white",
            "gridwidth": 2,
            "linecolor": "white",
            "showbackground": true,
            "ticks": "",
            "zerolinecolor": "white"
           },
           "yaxis": {
            "backgroundcolor": "#E5ECF6",
            "gridcolor": "white",
            "gridwidth": 2,
            "linecolor": "white",
            "showbackground": true,
            "ticks": "",
            "zerolinecolor": "white"
           },
           "zaxis": {
            "backgroundcolor": "#E5ECF6",
            "gridcolor": "white",
            "gridwidth": 2,
            "linecolor": "white",
            "showbackground": true,
            "ticks": "",
            "zerolinecolor": "white"
           }
          },
          "shapedefaults": {
           "line": {
            "color": "#2a3f5f"
           }
          },
          "ternary": {
           "aaxis": {
            "gridcolor": "white",
            "linecolor": "white",
            "ticks": ""
           },
           "baxis": {
            "gridcolor": "white",
            "linecolor": "white",
            "ticks": ""
           },
           "bgcolor": "#E5ECF6",
           "caxis": {
            "gridcolor": "white",
            "linecolor": "white",
            "ticks": ""
           }
          },
          "title": {
           "x": 0.05
          },
          "xaxis": {
           "automargin": true,
           "gridcolor": "white",
           "linecolor": "white",
           "ticks": "",
           "title": {
            "standoff": 15
           },
           "zerolinecolor": "white",
           "zerolinewidth": 2
          },
          "yaxis": {
           "automargin": true,
           "gridcolor": "white",
           "linecolor": "white",
           "ticks": "",
           "title": {
            "standoff": 15
           },
           "zerolinecolor": "white",
           "zerolinewidth": 2
          }
         }
        },
        "title": {
         "text": "RMSE of different feature combinations <br><sup>Based on 20 ratings of 108 dishes</sup>"
        },
        "xaxis": {
         "anchor": "y",
         "categoryorder": "total descending",
         "domain": [
          0,
          1
         ],
         "title": {
          "text": "combination"
         }
        },
        "yaxis": {
         "anchor": "x",
         "domain": [
          0,
          1
         ],
         "title": {
          "text": "mse"
         }
        }
       }
      }
     },
     "metadata": {},
     "output_type": "display_data"
    }
   ],
   "source": [
    "fig = px.bar(df, x='combination', y='mse', title =\"RMSE of different feature combinations <br><sup>Based on 20 ratings of 108 dishes</sup>\", text_auto=True)\n",
    "fig.update_layout(barmode='stack', xaxis={'categoryorder':'total descending'})\n",
    "fig.show()"
   ]
  },
  {
   "cell_type": "code",
   "execution_count": 66,
   "metadata": {
    "collapsed": false
   },
   "outputs": [
    {
     "data": {
      "text/plain": [
       "0.41067270957228696"
      ]
     },
     "execution_count": 66,
     "metadata": {},
     "output_type": "execute_result"
    }
   ],
   "source": [
    "test_profile = get_profile(erbseneintopf_ratings, enc_bert)\n",
    "cosine_similarity(test_profile, enc_bert[ids.index(1)])"
   ]
  },
  {
   "cell_type": "markdown",
   "metadata": {
    "collapsed": false
   },
   "source": [
    "# Results\n",
    "\n",
    "mean squared error\n",
    "\n",
    "bert model: all-MiniLM-L6-v2 (smaller)\n",
    "\n",
    "Recommendations based on 108 ratings.\n",
    "0.09932 : Only dish categories, additives, allergies : 37\n",
    "0.08285 : categories, additives, allergies + BERT embeds : 421\n",
    "0.07201 : BERT embeds : 384\n",
    "\n",
    "--------\n",
    "\n",
    "mean absolute error\n",
    "\n",
    "bert model: all-MiniLM-L6-v2 (smaller)\n",
    "\n",
    "Recommendations based on 50 ratings.\n",
    "0.20863 : Only dish categories, additives, allergies : 37\n",
    "0.19435 : categories, additives, allergies + BERT embeds : 421\n",
    "0.17663 : BERT embeds : 384\n",
    "\n",
    "=====\n",
    "\n",
    "bert model: all-mpnet-base-v2 (larger)\n",
    "\n",
    "Recommendations based on 50 ratings.\n",
    "0.20863 : Only dish categories, additives, allergies : 37\n",
    "0.19774 : categories, additives, allergies + BERT embeds : 805\n",
    "0.18836 : BERT embeds : 768"
   ]
  },
  {
   "cell_type": "markdown",
   "metadata": {
    "collapsed": false
   },
   "source": [
    "# FINAL\n",
    "* Less dimensions -> less general recommender\n",
    "* More dimensions -> more general recommender -> covers more users\n",
    "Sometimes BERT is better without categories, additives and allergies but this highly depends on the rating distribution.\n",
    "\n",
    "Therefore, we will stick with categories, additives, allergies AND BERT."
   ]
  }
 ],
 "metadata": {
  "kernelspec": {
   "display_name": "mensa_recommend",
   "language": "python",
   "name": "python3"
  },
  "language_info": {
   "codemirror_mode": {
    "name": "ipython",
    "version": 3
   },
   "file_extension": ".py",
   "mimetype": "text/x-python",
   "name": "python",
   "nbconvert_exporter": "python",
   "pygments_lexer": "ipython3",
   "version": "3.9.13"
  },
  "vscode": {
   "interpreter": {
    "hash": "9b32cfbcb2916ecbe22349bc86ea1239cf2858dd3049102660b6b02e358fd020"
   }
  }
 },
 "nbformat": 4,
 "nbformat_minor": 0
}
