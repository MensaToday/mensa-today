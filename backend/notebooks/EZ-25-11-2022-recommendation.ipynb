{
 "cells": [
  {
   "cell_type": "code",
   "execution_count": null,
   "outputs": [],
   "source": [
    "%pip install sentence_transformers\n",
    "%pip install numpy"
   ],
   "metadata": {
    "collapsed": false
   }
  },
  {
   "cell_type": "code",
   "execution_count": 1,
   "metadata": {
    "collapsed": true
   },
   "outputs": [],
   "source": [
    "import numpy as np\n",
    "\n",
    "dishes = [(1, 'Kartoffel-Kokosgratin', [1], [5], [25, 12], True), (2, 'Rosmarinkartoffeln \"Münsterlandknolle\"', [1], [], [], False), (3, 'Lahmacun mit Salatfüllung', [1], [6], [1, 12, 7], True), (4, 'Kichererbseneintopf', [1], [3, 4], [], True), (5, 'Tricolore Gemüse', [1], [1], [], False), (6, 'Penne mit Gemüsesugo', [1], [], [1, 23, 7], True), (7, 'Käsespätzle nach schwäbischer Art', [2], [1], [9, 1, 13, 7], True), (8, 'Teufelskartoffeln mit Rucola', [1], [1, 4], [], True), (9, 'Gemüse-Tortellini mit Tomaten-Gemüseragout', [1], [1], [1, 23, 7], True), (10, 'Chicken Drums mit Tomatensalsa mit Reis und Broccoli', [5], [3, 1], [], True), (11, 'Blumenkohl überbacken', [2], [], [9, 13, 23], True), (12, 'Kichererbsen-Spitzkohleintopf', [1], [3], [25], True), (13, 'Paniertes Schollenfilet mit Schnittlauchdip', [7], [2], [9, 10, 1, 13, 24, 7], True), (14, 'Schweinerückensteak mit Kräuterbutter', [3], [1], [1, 13, 7], True), (15, 'Vegan: Kartoffelsuppe mit halbem Baguettebrötchen', [1], [1], [1, 23, 12, 7], True), (16, 'Frühlingsrolle mit Gemüsefüllung und Asiasauce', [1], [1], [1, 23, 24, 12, 7], True), (17, 'Scharfes Kichererbsen-Tomatencurry', [1], [], [], True), (18, 'Paniertes Schweineschnitzel mit Käsesauce', [3], [1, 2], [9, 1, 13, 7], True), (19, 'Nudeln mit Bolognese und Parmesankäse', [4], [], [1, 13, 7], True), (20, 'Beilagensalat mit Mango-Minzdressing', [1], [3, 5], [24], False), (21, 'Zwei Börekstangen mit vegetarische Füllung mit Kartoffel Creme', [2], [3, 2], [9, 1, 13, 24, 7], True), (22, 'Süßkartoffel-Curry mit Erdnüssen', [1], [], [11], True), (23, 'Veganer Gemüse Eintopf', [1], [1], [23], True), (24, 'Nudelauflauf mit Tomatensauce dazu Beilagensalat mit Mango-Minzdressing', [2], [3, 1, 5], [9, 1, 13, 24, 7], True), (25, 'Grüne Tortellini mit Gemüsefüllung und Tomaten-Gemüseragout', [1], [], [1, 23, 7], True), (26, 'Salzkartoffeln', [1], [1], [], False), (27, 'Reis', [1], [1], [], False), (28, 'Veganes scharfes Tomaten-Kichererbsencurry mit Spinat', [1], [4], [], True), (29, 'Spaghetti mit Tomaten-Gemüseragout dazu Beilagensalat mit Mango-Minzdressing', [1], [3, 1, 4, 5], [1, 24, 7], True), (30, 'Veganer Gemüseeintopf', [1], [1], [23], True), (32, 'Gebratenes Seelachsfilet mit Käsesauce und Salzkartoffeln', [7], [1, 2, 9], [9, 10, 1, 13, 24, 7], True), (33, 'Spaghetti mit Tomaten-Gemüseragout', [2], [], [1, 23, 7], True), (34, 'Hähnchennuggets in Knusperpanade mit scharfer Currysauce', [5], [], [1, 23, 24, 7], True), (35, '2 Semmelknödel mit Pilzauce', [2], [1], [9, 1, 13, 7], True), (36, 'Schweinegeschnetzeltes Zürcher Art mit Champignons', [6, 3], [], [13], True), (37, 'Veganer Erbseneintopf', [1], [1], [23, 24], True), (38, 'Blumenkohl', [1], [], [], False), (39, 'Broccoli', [1], [1], [], False), (40, 'Erbsen und Mais', [1], [1], [], False), (41, 'Kichererbsen-Currypfanne', [1], [], [], True), (42, 'Spätzle', [2], [1], [9, 1, 7], False), (43, 'Waffelkartoffeln', [2], [], [9, 13], False), (44, 'Paniertes Hähnchenschnitzel mit Sauce Choron', [5], [], [9, 1, 13, 23, 7], True), (45, 'Frikadelle mit Rosmarinsauce', [4, 3], [], [9, 1, 13, 24, 7], True), (46, 'Polenta-Gemüseauflauf', [2], [1], [13], True), (47, 'Tomaten-Bulgur', [1], [1], [1, 7], False), (48, 'Nudeln', [1], [], [1, 7], False), (49, 'Californiasalat mit Mango-Minzdressing', [], [3, 5], [24], False), (50, '2 Semmelknödel mit Pilzauce dazu Beilagensalat mit Mango-Minzdressing', [2], [3, 1, 5], [9, 1, 13, 24, 7], True), (51, 'Pommes Frites', [1], [], [], True), (52, 'Gebackenes Alaska-Seelachsfilet mit Kressesauce', [7], [], [10, 1, 13, 7], True), (53, 'Pastatouille mit Zucchini, Aubergine, Paprika', [1], [], [1, 7], True), (54, 'Tomaten-Gurkensalat', [1], [5], [], False), (55, 'Spießbraten mit Rahmsauce', [3], [4], [13], True), (56, 'Buddha Bowl mit Wildreis und Süßkartoffel Erdnuss-Dip mit Sesam Dip mit Honig-Senfdressing', [2], [3, 5, 2], [11, 1, 24, 25, 7, 12], True), (57, 'Ricotta-Spinat-Tortellini mit Tomaten-Pestosauce', [2], [1, 4], [9, 1, 13, 7], True), (58, 'Rotkohlsalat', [1], [2], [], False), (59, 'Putensteak mit Tomate-Mozzarella mit Vollkornreis sowie Erbsen und Mais', [5], [1], [13], True), (60, 'Beilagensalat mit Essig-Öl-Dressing', [1], [3], [24], False), (61, 'Vollkornreis', [1], [1], [], False), (62, 'Burger Greek mit Tomatencreme mit Tomatencreme', [2], [1, 4, 5], [9, 1, 13, 14, 17, 7], True), (63, 'Möhren', [1], [1], [], False), (64, 'Poutine mit Käse und Jalapenos', [2], [1, 2], [1, 13, 7], True), (65, 'Pariser Möhren', [1], [], [], False), (66, 'Erbsen', [1], [1], [], False), (67, 'Spätzlepfanne mit Gemüse und Käse mit Petersiliensauce', [2], [], [9, 1, 13, 12, 7], True), (68, 'Gemüse-Tortellini Tomaten-Gemüseragout', [1], [], [1, 23, 7], True), (69, 'Paniertes Seelachsfilet mit Remoulade', [7], [3, 2, 9], [9, 10, 1, 13, 24, 7], True), (70, 'Rindergeschnetzeltes nach Stroganoff Art', [4], [9], [13, 24], True), (71, 'Gemüse-Knusperbagel mit Mango-Curry Dip', [2], [3], [2, 1, 13, 23, 7], True), (72, 'Käsespätzle nach Schwäbischer Art', [2], [1, 2], [9, 1, 13, 7], True), (73, 'Gemüsestrudel mit Schnittlauchsauce', [2], [], [9, 1, 13, 23, 12, 7], True), (74, 'Pommes frites', [1], [], [], False), (75, 'Gebratene Mie-Nudeln mit Gemüse mit süß saurer Sauce', [1], [2], [1, 12, 7], True), (76, 'Pfannkuchen mit Spinat und Hirtenkäse', [2], [1, 8], [9, 1, 13, 7], True), (77, 'Californiasalat', [], [], [24], False), (78, 'Kaisergemüse', [1], [1], [], False), (79, 'Eskorialgemüse', [1], [1], [], False), (80, 'Rindergeschnetzeltes nach Stroganoff Art mit Salzkartoffeln', [4], [9], [3, 1, 13, 24, 7], True), (81, 'Gemüseeintopf nach Pichelsteiner Art', [1], [1], [23], True), (82, 'Veganer Burger Sunny mit Limettenmayonnaise mit Gemüsepatty', [1], [3, 1, 4], [1, 4, 24, 12, 7], True), (83, 'Pommes Frites klein', [1], [], [], False), (84, 'Milchreis Pflaumenkompott', [2], [], [13, 12], True), (85, 'Paniertes Hähnchenschnitzel Hawaii mit Geflügelsauce', [5], [], [9, 1, 13, 7], True), (86, 'Bowl Orient mit Honig-Senfdressing', [2], [5], [1, 24, 7], True), (87, 'Bowl Italy', [2], [6], [18, 13, 14], True), (88, 'Putengulasch nach italienischer Art', [5], [], [], True), (89, 'Mettendchen geräuchert', [4, 3], [3, 1, 4, 2], [], True), (90, 'Chicken Drumsticks mit Tomatensalsa', [5], [3], [], True), (91, 'Broccoli mit Mandelblättchen', [1], [1], [15, 14], False), (92, 'Spaghetti Tomaten-Gemüseragout', [1], [], [1, 23, 7], True), (93, 'Feuerkartoffeln mit Knoblauch Dip', [1], [3], [24, 12], True), (94, 'Gemüse-Knusperbagel mit Mango-Curry-Dip', [2], [3], [2, 1, 13, 23, 7], True), (95, 'Kartoffel-Gemüsegratin mit Mozzarella', [2], [], [23, 13, 12], True), (96, 'Schweinerückensteak mit Bratensauce', [3], [], [1, 24, 7], True), (97, 'Zucchini gefüllt mit Bulgur mit Tomatensauce', [1], [3], [1, 4, 23, 7], True), (98, 'Kirschquark mit Schokoladenraspeln', [2], [], [13, 12], True), (99, 'Blumenkohl-Käsebratling mit Kräutersauce', [2], [], [9, 1, 13, 7], True), (100, 'Kartoffelrösti mit Mittelmeergemüse', [2], [], [13], True), (101, 'Frühlingsrolle mit Gemüsefüllung mit Asiasauce', [1], [1], [1, 23, 24, 12, 7], True), (102, 'Couscous', [1], [], [1, 7], False), (103, 'Chop Suey mit süß-saurer Sauce', [1], [2], [25, 12], True), (104, 'Kartoffel-Spinatauflauf', [2], [1], [13], True), (105, 'Putenmedaillons mit Curry-Fruchtsauce', [5], [1], [], True), (106, 'Blumenkohlcurry', [1], [3], [12], True), (107, 'Farfalle Nudeln', [1], [], [1, 7], False), (108, 'Spinat-Dinkel-Knusperplätzchen mit Knoblauch Dip', [2], [3, 2], [2, 9, 1, 13, 23, 24, 7], True), (109, 'Ananasquark', [2], [], [13], True), (110, 'Rosenkohl mit Zwiebelschmelze', [1], [1], [], False), (111, 'Vegetarisches Himmel und Ääd mit Zwiebeln und westfälischem Pumpernickel', [2], [], [3, 1, 13, 6], True), (126, 'Semmelknödel', [2], [], [9, 1, 7], False), (133, 'Nudeln mit Sc. Bolognese, vom Weiderind \"Hof Keil\" Parmesankäse', [4], [], [1, 13, 7], True), (145, 'Paniertes Schweineschnitzel mit einer Schmand-Zwiebel-Schmelze und Mandelkroketten', [3], [1], [9, 1, 15, 13, 14, 24, 7], True), (167, 'Frisches Obst Äpfel:, Bananen:', [1], [], [], False), (173, 'Fruchtjoghurt im Becher', [2], [], [], False), (177, 'Vegane Vanillecreme aus glutenfreier Hafermilch', [1], [], [1, 4], False), (184, 'Wildreis', [1], [1], [], False), (188, 'Schokoladenpudding', [2], [], [13], False), (194, 'Zucchinicremesuppe', [2], [1], [13], False), (199, 'Countrykartoffeln', [1], [1], [], False), (203, 'Eisbergsalat mit Joghurt-Curry-Dressing', [2], [], [13], False), (208, 'Rahmwirsing', [2], [1], [13], False), (212, 'Mandelcreme', [2], [], [15, 13, 14], True), (218, 'Mousse au Chocolat', [2], [], [12, 13], True), (222, 'Pommes frites große Portion: 1,40€ / 2,10€', [], [], [], True), (112, 'Überbackener Blumenkohl', [2], [], [9, 13, 23], True), (138, 'Rahmspinat', [1], [], [12], False), (154, 'Milchreis mit Zimt-Zucker', [2], [], [13, 12], True), (113, 'Rosenkohl', [1], [], [], False), (117, 'Rahmkohlrabi', [2], [], [13], False), (125, 'Schmorkartoffeln Münsterlandknolle', [1], [], [], False), (134, 'Kräutercouscous', [1], [1], [1, 7], False), (159, 'Apfelkompott mit Vanillesauce', [2], [3], [13], True), (169, 'Quark mit Bircher Müsli', [2], [], [13], True), (114, 'Gebratenes Schweinenackensteak mit Kräuterbutter, Pommes-frites', [3], [3, 4], [13, 23, 24], True), (130, 'Basmatireis', [1], [1], [], False), (150, 'Kroketten', [1], [], [], False), (170, 'Wachsbrechbohnensalat', [2], [], [13], False), (115, 'Kartoffelsuppe mit halbem Baguettebrötchen', [1], [1], [1, 23, 12, 7], True), (129, 'Putensteak mit Tomate-Mozzarella', [5], [], [13], True), (139, 'Grünkohl', [1], [1], [1, 4, 24], True), (168, 'Zucchinigemüse', [1], [], [], False), (181, 'Rahmspitzkohl', [2], [1], [1, 13, 7], False), (189, 'Götterspeise Himbeere mit Vanillesauce', [2], [3], [13], True), (116, 'Bunte Gnocchipfanne mit Gemüse und Kräutersauce', [2], [1, 2], [1, 13, 7], True), (132, 'Erbsen und Möhren', [1], [], [], False), (147, 'Kartoffelpüree Münsterlandknolle', [2], [1], [13], False), (164, 'Bratwurst oder Vegetarische Bratwurst', [3], [3], [9, 1, 24, 7], True), (178, 'Veggie Burger mit Kartoffel-Gemüserösti, Gurke, Tomate, Zwiebeln und Snack-Dressing', [2], [3, 2, 9], [9, 1, 23, 24, 25, 12, 7], True), (193, 'Mensa Burger mit Rindfleischpatty', [4], [2, 9], [9, 1, 23, 24, 25, 12, 7], True), (118, 'Falafeln an Veganem-Dip', [1], [3, 4], [1, 24, 12, 7], True), (140, 'Semmelknödel mit Pilzsauce', [2], [1], [9, 1, 13, 7], True), (163, 'Erbseneintopf', [1], [1], [23, 24], True), (185, 'Gabelspaghetti', [1], [], [1, 7], False), (198, 'Erbsen mit Mais', [1], [1], [], False), (201, 'Gemüse-Bulgur', [1], [1], [1, 7], False), (211, 'Grießpudding', [2], [], [1, 13, 7], True), (215, 'Quark mit Schokoladenraspeln', [2], [], [13], True), (119, 'Balkangemüse', [1], [1], [23], False), (120, 'Polentatasche mit Käsefüllung mit Kressesauce', [2], [], [9, 1, 13, 7], True), (128, 'Romanesco', [1], [], [], False), (137, 'Schwenkkartoffeln Münsterlandknolle', [1], [], [], False), (146, 'Früchtequark', [2], [1], [13], True), (155, 'Vollkornnudeln', [1], [], [1, 7], False), (162, 'Tomatensuppe', [1], [1], [12], False), (180, 'Veganes Soja Dessert', [1], [8], [12], False), (187, 'Kartoffeln \"Münsterlandknolle\"', [1], [], [], False), (191, 'Veganes Hafer Dessert im Becher', [1], [], [1, 4], False), (205, 'Quarkspeise', [2], [], [13], True), (209, 'Frischer Obstsalat', [1], [3], [], True), (210, 'Cappuccino-Mousse', [2], [], [9, 1, 13, 7], True), (214, 'Orangen-Mascarponecreme', [2], [], [13], True), (217, 'Grillwurst oder vegetarische Bratwurst', [3], [3], [9, 1, 24, 7], True), (121, 'Bratwurstschnecke mit Bratensauce, Kaisergemüse und Kartoffelpüree \"Münsterlandknolle\"', [3], [1], [9, 13, 24], True), (122, 'Frisches Pfannengemüse mit mediterranem Quark Dip', [2], [3], [13], True), (123, 'Gemüseschnitzel mit Tomatensauce', [1], [1], [1, 23, 7], True), (135, 'Curryreis', [1], [1], [], False), (141, 'Laugen -Burger mit Leberkäse und Krautsalat, Eisbergsalat, Senf-Dip nach bayrischer Art auch vegetarisch mit Gemüsebagel', [3], [3, 1, 4, 2, 9], [2, 9, 1, 23, 24, 7], True), (142, 'Schweinerückensteak mit hausgemachter Kräuterbutter', [3], [1], [1, 13, 7], True), (148, 'Duett von Blumenkohl und Broccoli', [1], [], [], False), (161, 'Pfannengyros vom Schwein Zaziki, Krautsalat und Pommes frites', [3], [], [13, 12], True), (174, 'Kürbis-Möhrensuppe', [1], [5], [12], False), (175, 'Kohlrabi', [1], [1], [], False), (179, '\"Mensa Burger\" mit Rindfleischpatty, Gurke, Tomate, Zwiebeln und Snack-Dressing', [4], [2, 9], [9, 1, 23, 24, 25, 12, 7], True), (183, 'Kräutersuppe', [1], [], [12], False), (186, 'Käse-Kräutersuppe', [2], [], [13], False), (192, '\"Mensa Gemüseburger\" mit Kartoffel-Gemüserösti, Gurke, Tomate, Zwiebeln und Snack-Dressing', [2], [3, 2, 9], [1, 23, 24, 25, 12, 9, 7], True), (196, 'Himbeerjoghurt', [2], [], [13], False), (197, 'Veganer Hafer-Milchreis', [1], [], [1, 4], False), (200, 'Gemüse Tricolore', [1], [1], [], False), (204, 'Krautsalat mit Gurke und Paprika', [1], [], [], False), (206, 'Mandelkroketten', [2], [1], [9, 1, 15, 14, 7], False), (207, 'Kartoffel-Twister', [1], [], [1, 7], False), (213, 'Milchreis', [2], [], [13, 12], True), (216, 'Zitronen-Mousse', [2], [], [13, 12], True), (219, 'Currywurst oder vegetarische Currywurst', [3], [3], [9, 7, 1, 24], True), (124, 'Spaghetti mit Bolognese, Parmesankäse und einem Beilagensalat', [4], [], [1, 13, 7], True), (151, 'Schmorkartoffeln \"Münsterlandknolle\"', [1], [], [], False), (156, 'Beilagensalat mit Essig-Öl-Dressing oder Joghurtdressing', [2], [3], [13, 24], False), (127, 'Schwarzwurzeln', [1], [1], [], False), (143, 'Kartoffelecken', [1], [], [1, 7], False), (153, 'Kirschquark', [2], [], [13], False), (160, 'Eisbergsalat mit Mango-Minzdressing', [1], [3, 5], [24], False), (171, 'Vanillepudding mit Erdbeerpüree', [2], [], [13], True), (131, 'Prinzessbohnen', [1], [1], [], False), (149, 'Sombrerogemüse', [1], [1], [23], False), (136, 'Gemüselasagne', [2], [], [9, 1, 13, 23, 7], True), (144, 'Hausgemachter veganer Erbseneintopf', [1], [1], [23, 24], True), (152, 'Feuerkartoffeln', [1], [], [], True), (157, 'Veganes Kartoffel-Kokosgratin', [1], [5], [25, 12], True), (158, 'Asiatische Reispfanne', [], [], [12], True), (166, 'Gemüse-Tortellini in Käse-Lauchsauce', [2], [1, 2], [1, 13, 7], True), (172, 'Sauerkraut', [1], [1], [], False), (176, 'Mischgemüse', [1], [1], [23], False), (182, 'Paniertes Hähnchenschnitzel Käse-Lauchsauce', [5], [1, 2], [1, 13, 7], True), (190, 'Indisches Butter-Chicken, Basmatireis', [5], [3, 1], [13, 12], True), (195, 'Erbseneintopf mit Speck, Gemüse und Kartoffeln', [3], [3, 2], [23, 24], True), (202, 'Blumenkohlsuppe', [2], [1], [13], False), (224, 'Mettendchen', [4, 3], [3, 1, 4, 2], [24], True), (225, 'Bockwurst', [3], [3, 4, 2, 8], [23, 24, 12], True), (226, 'Eisbergsalat mit Joghurt-Kräuter-Dressing', [2], [3], [13], False)]"
   ]
  },
  {
   "cell_type": "code",
   "execution_count": 2,
   "outputs": [],
   "source": [
    "ids = []\n",
    "names = []\n",
    "categories = []\n",
    "additives = []\n",
    "allergies = []\n",
    "main = []\n",
    "\n",
    "for d in dishes:\n",
    "    o0, o1, o2, o3, o4, o5 = d\n",
    "    if not o5:\n",
    "        continue\n",
    "\n",
    "    ids.append(o0)\n",
    "    names.append(o1)\n",
    "    categories.append(o2)\n",
    "    additives.append(o3)\n",
    "    allergies.append(o4)\n",
    "    main.append(o5)"
   ],
   "metadata": {
    "collapsed": false
   }
  },
  {
   "cell_type": "code",
   "execution_count": 3,
   "outputs": [],
   "source": [
    "def encode_binary(l):\n",
    "    max_val = max(l)[0]\n",
    "    res = []\n",
    "\n",
    "    for o in l:\n",
    "        part = []\n",
    "        for value in range(max_val):\n",
    "            part.append(1 if value in o else 0)\n",
    "        res.append(part)\n",
    "    return res"
   ],
   "metadata": {
    "collapsed": false
   }
  },
  {
   "cell_type": "code",
   "execution_count": 4,
   "outputs": [],
   "source": [
    "enc_cat = encode_binary(categories)\n",
    "enc_add = encode_binary(additives)\n",
    "enc_all = encode_binary(allergies)\n",
    "\n",
    "enc = []\n",
    "\n",
    "for i in range(len(enc_cat)):\n",
    "    enc.append(enc_cat[i] + enc_add[i] + enc_all[i])"
   ],
   "metadata": {
    "collapsed": false
   }
  },
  {
   "cell_type": "code",
   "execution_count": 5,
   "outputs": [],
   "source": [
    "from numpy import dot\n",
    "from numpy.linalg import norm\n",
    "\n",
    "def cosine_similarity(list_1, list_2):\n",
    "    cos_sim = dot(list_1, list_2) / (norm(list_1) * norm(list_2))\n",
    "    return cos_sim"
   ],
   "metadata": {
    "collapsed": false
   }
  },
  {
   "cell_type": "code",
   "execution_count": 6,
   "outputs": [],
   "source": [
    "import numpy as np\n",
    "from sentence_transformers import SentenceTransformer\n",
    "\n",
    "classifier: SentenceTransformer = SentenceTransformer('all-MiniLM-L6-v2')\n",
    "embeds: np.ndarray = classifier.encode(names)"
   ],
   "metadata": {
    "collapsed": false
   }
  },
  {
   "cell_type": "code",
   "execution_count": 18,
   "outputs": [],
   "source": [
    "enc_bert = []\n",
    "\n",
    "for i in range(len(names)):\n",
    "    enc_bert.append(enc[i] + list(np.multiply(embeds[i], 1)))"
   ],
   "metadata": {
    "collapsed": false
   }
  },
  {
   "cell_type": "code",
   "execution_count": 19,
   "outputs": [
    {
     "data": {
      "text/plain": "135"
     },
     "execution_count": 19,
     "metadata": {},
     "output_type": "execute_result"
    }
   ],
   "source": [
    "len(enc_bert)"
   ],
   "metadata": {
    "collapsed": false
   }
  },
  {
   "cell_type": "markdown",
   "source": [
    "# Thoughts\n",
    "\n",
    "* Computation of embeds takes more than a second for 100 dishes -> Maybe it's better to do that once and then save it somewhere?"
   ],
   "metadata": {
    "collapsed": false
   }
  },
  {
   "cell_type": "markdown",
   "source": [
    "# Recommendation\n",
    "###### based on content-based filtering"
   ],
   "metadata": {
    "collapsed": false
   }
  },
  {
   "cell_type": "code",
   "execution_count": 20,
   "outputs": [
    {
     "data": {
      "text/plain": "['Kartoffel-Kokosgratin',\n 'Lahmacun mit Salatfüllung',\n 'Kichererbseneintopf',\n 'Penne mit Gemüsesugo',\n 'Käsespätzle nach schwäbischer Art',\n 'Teufelskartoffeln mit Rucola',\n 'Gemüse-Tortellini mit Tomaten-Gemüseragout',\n 'Chicken Drums mit Tomatensalsa mit Reis und Broccoli',\n 'Blumenkohl überbacken',\n 'Kichererbsen-Spitzkohleintopf']"
     },
     "execution_count": 20,
     "metadata": {},
     "output_type": "execute_result"
    }
   ],
   "source": [
    "names[:10]"
   ],
   "metadata": {
    "collapsed": false
   }
  },
  {
   "cell_type": "code",
   "execution_count": 21,
   "outputs": [
    {
     "name": "stdout",
     "output_type": "stream",
     "text": [
      "0\n",
      "67\n",
      "127\n"
     ]
    }
   ],
   "source": [
    "for i in range(len(names)):\n",
    "    if \"gratin\" in names[i].lower():\n",
    "        print(i)"
   ],
   "metadata": {
    "collapsed": false
   }
  },
  {
   "cell_type": "code",
   "execution_count": 22,
   "outputs": [],
   "source": [
    "own_ratings = {\n",
    "    0: 0.7,\n",
    "    1: 0.3,\n",
    "    2: 0.2,\n",
    "    3: 0.5,\n",
    "    4: 0.9,\n",
    "    5: 0.6,\n",
    "    6: 0.8,\n",
    "    7: 0.8,\n",
    "    8: 0.4,\n",
    "    9: 0.0,\n",
    "}"
   ],
   "metadata": {
    "collapsed": false
   }
  },
  {
   "cell_type": "code",
   "execution_count": 23,
   "outputs": [],
   "source": [
    "x = [0] * len(enc[0])\n",
    "for key in own_ratings:\n",
    "    x += np.multiply(own_ratings[key], enc[key])"
   ],
   "metadata": {
    "collapsed": false
   }
  },
  {
   "cell_type": "code",
   "execution_count": 24,
   "outputs": [],
   "source": [
    "x_bert = 0\n",
    "for key in own_ratings:\n",
    "    x_bert += np.multiply(own_ratings[key], enc_bert[key])"
   ],
   "metadata": {
    "collapsed": false
   }
  },
  {
   "cell_type": "code",
   "execution_count": 25,
   "outputs": [
    {
     "name": "stdout",
     "output_type": "stream",
     "text": [
      "With BERT 0.59 -> 0.528 Grünkohl id=93\n"
     ]
    }
   ],
   "source": [
    "specific = 93\n",
    "print(\"With BERT\", round(cosine_similarity(x, enc[specific]), 3), \"->\", round(cosine_similarity(x_bert, enc_bert[specific]), 3), names[specific], f\"id={specific}\")"
   ],
   "metadata": {
    "collapsed": false
   }
  },
  {
   "cell_type": "code",
   "execution_count": 26,
   "outputs": [],
   "source": [
    "p = []\n",
    "p_ids = []\n",
    "for i in range(len(enc)):\n",
    "    if i in own_ratings.keys():\n",
    "        continue\n",
    "    # sim = cosine_similarity(x, enc[i])\n",
    "    sim_bert = cosine_similarity(x_bert, enc_bert[i])\n",
    "    p.append(sim_bert)\n",
    "    p_ids.append(i)\n",
    "    # print(\"With BERT\", round(sim, 3), \"->\", round(sim_bert, 3), names[i], f\"id={i}\")"
   ],
   "metadata": {
    "collapsed": false
   }
  },
  {
   "cell_type": "code",
   "execution_count": 27,
   "outputs": [
    {
     "name": "stdout",
     "output_type": "stream",
     "text": [
      "Top 10 meals of all mensen and bistros\n",
      "\n",
      "1. Gemüseschnitzel mit Tomatensauce: 0.8335, id=113\n",
      "2. Kartoffelsuppe mit halbem Baguettebrötchen: 0.8192, id=91\n",
      "3. Vegan: Kartoffelsuppe mit halbem Baguettebrötchen: 0.814, id=12\n",
      "4. Frühlingsrolle mit Gemüsefüllung mit Asiasauce: 0.7618, id=73\n",
      "5. Frühlingsrolle mit Gemüsefüllung und Asiasauce: 0.754, id=13\n",
      "6. 2 Semmelknödel mit Pilzauce: 0.7127, id=28\n",
      "7. Semmelknödel mit Pilzsauce: 0.7107, id=100\n",
      "8. Gemüse-Tortellini Tomaten-Gemüseragout: 0.7068, id=46\n",
      "9. Spaghetti mit Tomaten-Gemüseragout dazu Beilagensalat mit Mango-Minzdressing: 0.7039, id=23\n",
      "10. Grüne Tortellini mit Gemüsefüllung und Tomaten-Gemüseragout: 0.6991, id=21\n"
     ]
    }
   ],
   "source": [
    "print(\"Top 10 meals of all mensen and bistros\\n\")\n",
    "\n",
    "p_copy = list(p)\n",
    "p_ids_copy = list(p_ids)\n",
    "for i in range(10):\n",
    "    p_id = p_ids_copy[np.argmax(p_copy)]\n",
    "    print(f\"{i + 1}. {names[p_id]}: {round(max(p_copy), 4)}, id={p_id}\")\n",
    "    p_copy.remove(max(p_copy))\n",
    "    p_ids_copy.remove(p_id)"
   ],
   "metadata": {
    "collapsed": false
   }
  },
  {
   "cell_type": "code",
   "execution_count": null,
   "outputs": [],
   "source": [],
   "metadata": {
    "collapsed": false,
    "pycharm": {
     "is_executing": true
    }
   }
  },
  {
   "cell_type": "code",
   "execution_count": 27,
   "outputs": [],
   "source": [],
   "metadata": {
    "collapsed": false
   }
  }
 ],
 "metadata": {
  "kernelspec": {
   "display_name": "Python 3",
   "language": "python",
   "name": "python3"
  },
  "language_info": {
   "codemirror_mode": {
    "name": "ipython",
    "version": 2
   },
   "file_extension": ".py",
   "mimetype": "text/x-python",
   "name": "python",
   "nbconvert_exporter": "python",
   "pygments_lexer": "ipython2",
   "version": "2.7.6"
  }
 },
 "nbformat": 4,
 "nbformat_minor": 0
}
