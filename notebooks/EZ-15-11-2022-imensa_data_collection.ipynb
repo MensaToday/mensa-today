{
 "cells": [
  {
   "cell_type": "code",
   "execution_count": null,
   "metadata": {
    "pycharm": {
     "is_executing": true
    }
   },
   "outputs": [],
   "source": [
    "% pip install beautifulsoup4\n",
    "% pip install lxml"
   ]
  },
  {
   "cell_type": "code",
   "execution_count": 17,
   "outputs": [],
   "source": [
    "from bs4 import BeautifulSoup\n",
    "import requests\n",
    "import re\n",
    "\n",
    "url = \"https://www.imensa.de/{city}/{mensa}/{day}.html\"\n",
    "non_digit = re.compile('[^0-9,.]')"
   ],
   "metadata": {
    "collapsed": false
   }
  },
  {
   "cell_type": "code",
   "execution_count": null,
   "outputs": [],
   "source": [
    "city = [\"muenster\"]\n",
    "mensa = [\n",
    "    \"mensa-da-vinci\", \"bistro-denkpause\", \"bistro-friesenring\",\n",
    "    \"bistro-katholische-hochschule\",\n",
    "    \"bistro-durchblick\", \"bistro-frieden\", \"bistro-kabu\", \"bistro-oeconomicum\", \"hier-und-jetzt\", \"mensa-am-aasee\", \"mensa-am-ring\", \"mensa-bispinghof\"\n",
    "]\n",
    "days = [\"montag\", \"dienstag\", \"mittwoch\", \"donnerstag\", \"freitag\"]"
   ],
   "metadata": {
    "collapsed": false
   }
  },
  {
   "cell_type": "code",
   "execution_count": 40,
   "outputs": [],
   "source": [
    "attribute_replacement = {\n",
    "    \"vegan\": \"Vegan\",\n",
    "    \"vegetarisch\": \"Vegetarian\",\n",
    "    \"schwein\": \"Pork\",\n",
    "    \"rind\": \"Beef\",\n",
    "    \"geflügel\": \"Poultry\",\n",
    "\n",
    "    \"farbstoff\": \"Dyed\",\n",
    "    \"konservierungsstoffe\": \"Preservatives\",\n",
    "    \"antioxidationsmittel\": \"Antioxidants\",\n",
    "    \"geschmacksverstärker\": \"Flavor enhancers\",\n",
    "    \"geschwefelt\": \"sulphurated\",\n",
    "    \"geschwärzt\": \"blackened\",\n",
    "    \"gewachst\": \"waxed\",\n",
    "    \"phosphat\": \"Phosphate\",\n",
    "    \"süßungsmittel\": \"Sweeteners\",\n",
    "    \"phenylalaninquelle\": \"Phenylalanine source\",\n",
    "\n",
    "    \"gluten\": \"Gluten\",\n",
    "    \"dinkel\": \"Spelt\",\n",
    "    \"gerste\": \"Barley\",\n",
    "    \"hafer\": \"Oats\",\n",
    "    \"kamut\": \"Kamut\",\n",
    "    \"roggen\": \"Rye\",\n",
    "    \"weizen\": \"Wheat\",\n",
    "\n",
    "    \"krebstiere\": \"Crustaceans\",\n",
    "    \"ei\": \"Egg\",\n",
    "    \"fisch\": \"Fish\",\n",
    "    \"erdnüsse\": \"Peanuts\",\n",
    "    \"soja\": \"Soy\",\n",
    "    \"milch\": \"Milk\",\n",
    "\n",
    "    \"schalenfrüchte\": \"Nuts\",\n",
    "    \"mandeln\": \"Almonds\",\n",
    "    \"haselnüsse\": \"Hazelnuts\",\n",
    "    \"walnüsse\": \"Walnuts\",\n",
    "    \"cashewkerne\": \"Cashews\",\n",
    "    \"pecannüsse\": \"Pecans\",\n",
    "    \"paranüsse\": \"Brazil nuts\",\n",
    "    \"pistazien\": \"Pistachios\",\n",
    "    \"macadamianüsse\": \"Macadamias\",\n",
    "\n",
    "    \"sellerie\": \"Celery\",\n",
    "    \"senf\": \"Mustard\",\n",
    "    \"sesam\": \"Sesame\",\n",
    "    \"lupinen\": \"Lupines\",\n",
    "    \"weichtiere\": \"Molluscs\",\n",
    "    \"schwefeldioxid\": \"Sulfur dioxide\",\n",
    "}"
   ],
   "metadata": {
    "collapsed": false
   }
  },
  {
   "cell_type": "code",
   "execution_count": 45,
   "outputs": [],
   "source": [
    "f = requests.get(url)\n",
    "document = f.text"
   ],
   "metadata": {
    "collapsed": false
   }
  },
  {
   "cell_type": "code",
   "execution_count": 52,
   "outputs": [
    {
     "data": {
      "text/plain": "bs4.BeautifulSoup"
     },
     "execution_count": 52,
     "metadata": {},
     "output_type": "execute_result"
    }
   ],
   "source": [
    "soup = BeautifulSoup(document, \"lxml\")\n",
    "type(soup)"
   ],
   "metadata": {
    "collapsed": false
   }
  },
  {
   "cell_type": "code",
   "execution_count": null,
   "outputs": [],
   "source": [
    "print(soup.prettify())"
   ],
   "metadata": {
    "collapsed": false,
    "pycharm": {
     "is_executing": true
    }
   }
  },
  {
   "cell_type": "code",
   "execution_count": 47,
   "outputs": [
    {
     "name": "stdout",
     "output_type": "stream",
     "text": [
      "2001 3.8\n"
     ]
    }
   ],
   "source": [
    "mensa_rating_avg = float(soup.find(class_=\"aw-ratings-average\").text.replace(\",\", \".\"))\n",
    "mensa_rating_count = int(soup.find(class_=\"aw-ratings-count\").text.replace(\".\", \"\"))\n",
    "\n",
    "print(mensa_rating_count, mensa_rating_avg)"
   ],
   "metadata": {
    "collapsed": false
   }
  },
  {
   "cell_type": "code",
   "execution_count": 51,
   "outputs": [
    {
     "name": "stdout",
     "output_type": "stream",
     "text": [
      "Penne mit Gemüsesugo 1.80 True Vegan [] ['Gluten', 'Wheat'] 06.09.2022 2 4.0\n",
      "Gefüllte Wirsingroulade mit Mett mit Jus vom Schwein 2.30 True Pork [] ['Gluten', 'Celery', 'Wheat'] None 0 0\n",
      "Spinatknödel mit Gorgonzolasauce 2.05 True Vegetarian [] ['Egg', 'Gluten', 'Milk', 'Wheat'] 11.10.2022 2 4.0\n",
      "Erbsen und Möhren 0.30 False Vegan [] [] 10.11.2022 6 4.8\n",
      "Rahmkohlrabi 0.50 False Vegan ['Dyed'] ['Soy'] 03.11.2022 2 4.0\n",
      "Salzkartoffeln 0.70 False Vegan ['Dyed'] [] 04.11.2022 15 4.5\n",
      "Beilagensalat mit Essig-Öl-Dressing 0.90 False Vegan ['Antioxidants'] ['Mustard'] gestern 9 3.2\n"
     ]
    }
   ],
   "source": [
    "main_meal = True\n",
    "for div in soup.find_all(class_=\"aw-meal-category\"):\n",
    "    for meal in div.find_all(class_=\"aw-meal row no-margin-xs\"):\n",
    "        name = meal.find(class_=\"aw-meal-description\").text\n",
    "        price_for_students = meal.find(title=\"Preis für Studierende\").text[:-2].replace(\",\", \".\")\n",
    "\n",
    "        attributes = meal.find(class_=\"small aw-meal-attributes\").span.text.replace(\"\\xa0\", \"\").split(\" \")\n",
    "        category = attribute_replacement[attributes[0].lower()]\n",
    "\n",
    "        att_type = 0\n",
    "        additives = []\n",
    "        allergies = []\n",
    "\n",
    "        for att in attributes[1:]:\n",
    "            att = att.lower()\n",
    "            replacement = att\n",
    "            if att in attribute_replacement:\n",
    "                replacement = attribute_replacement[att]\n",
    "\n",
    "            if att == \"zusatz\":\n",
    "                att_type = 1\n",
    "            elif att == \"allergen\":\n",
    "                att_type = 2\n",
    "            elif att_type == 1:\n",
    "                additives.append(replacement)\n",
    "            elif att_type == 2:\n",
    "                allergies.append(replacement)\n",
    "\n",
    "        last_occurrence = meal.find(title=\"Zuletzt angeboten\")\n",
    "        if last_occurrence:\n",
    "            last_occurrence = last_occurrence.text\n",
    "\n",
    "        ratings_count_tag = meal.find(class_=\"aw-meal-histogram-count\")\n",
    "        ratings_count = 0\n",
    "        if ratings_count_tag:\n",
    "            ratings_count = int(non_digit.sub(\"\", ratings_count_tag.text))\n",
    "\n",
    "        ratings_avg_tag = meal.find(class_=\"aw-meal-histogram-average\")\n",
    "        ratings_avg = 0\n",
    "        if ratings_avg_tag:\n",
    "            ratings_avg = float(non_digit.sub(\"\", ratings_avg_tag.text.replace(\",\", \".\")))\n",
    "\n",
    "        print(name, price_for_students, main_meal, category, additives, allergies, last_occurrence, ratings_count,\n",
    "              ratings_avg)\n",
    "    main_meal = False"
   ],
   "metadata": {
    "collapsed": false
   }
  }
 ],
 "metadata": {
  "kernelspec": {
   "display_name": "Python 3.9.13 ('mensa_recommend')",
   "language": "python",
   "name": "python3"
  },
  "language_info": {
   "name": "python",
   "version": "3.9.13"
  },
  "orig_nbformat": 4,
  "vscode": {
   "interpreter": {
    "hash": "9b32cfbcb2916ecbe22349bc86ea1239cf2858dd3049102660b6b02e358fd020"
   }
  }
 },
 "nbformat": 4,
 "nbformat_minor": 2
}
