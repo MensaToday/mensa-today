{
 "cells": [
  {
   "cell_type": "code",
   "execution_count": null,
   "metadata": {},
   "outputs": [],
   "source": []
  }
 ],
 "metadata": {
  "kernelspec": {
   "display_name": "Python 3.9.13 ('mensa_recommend')",
   "language": "python",
   "name": "python3"
  },
  "language_info": {
   "name": "python",
   "version": "3.9.13"
  },
  "orig_nbformat": 4,
  "vscode": {
   "interpreter": {
    "hash": "9b32cfbcb2916ecbe22349bc86ea1239cf2858dd3049102660b6b02e358fd020"
   }
  }
 },
 "nbformat": 4,
 "nbformat_minor": 2
}
