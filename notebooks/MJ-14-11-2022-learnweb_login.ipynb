{
 "cells": [
  {
   "cell_type": "code",
   "execution_count": 1,
   "metadata": {},
   "outputs": [],
   "source": [
    "import requests\n",
    "from bs4 import BeautifulSoup\n",
    "import re\n",
    "from urllib.parse import urlparse, parse_qs"
   ]
  },
  {
   "cell_type": "code",
   "execution_count": 2,
   "metadata": {},
   "outputs": [],
   "source": [
    "base_url = 'https://sso.uni-muenster.de/LearnWeb/learnweb2'\n",
    "search_url_pattern = 'https://sso.uni-muenster.de/LearnWeb/learnweb2/course/search.php?search={search_string}'"
   ]
  },
  {
   "cell_type": "code",
   "execution_count": 64,
   "metadata": {},
   "outputs": [
    {
     "name": "stdout",
     "output_type": "stream",
     "text": [
      "401\n",
      "Test\n"
     ]
    }
   ],
   "source": [
    "payload = {'httpd_username': '', 'httpd_password': ''}\n",
    "        \n",
    "try:\n",
    "    session = requests.Session()\n",
    "    session_response = session.post(base_url, data=payload)\n",
    "    print(session_response.status_code)\n",
    "    if session_response.status_code == 401:\n",
    "        print('Test')\n",
    "        SystemExit(\"401 unauthorized\")\n",
    "    \n",
    "except requests.exceptions.RequestException as e:\n",
    "    raise SystemExit(e)\n",
    "\n",
    "session_header = session_response.headers\n",
    "\n",
    "session_id = session_header['set-Cookie']\n",
    "\n",
    "headers = {'Cookie': session_id}"
   ]
  },
  {
   "cell_type": "code",
   "execution_count": 7,
   "metadata": {},
   "outputs": [],
   "source": [
    "def response_to_soup(res: requests.Response) -> BeautifulSoup:\n",
    "    document: str = res.text\n",
    "    return BeautifulSoup(document, \"lxml\")\n",
    "\n",
    "\n",
    "def url_to_soup(url: str, headers: dict = None) -> BeautifulSoup:\n",
    "    return response_to_soup(requests.get(url, headers=headers))"
   ]
  },
  {
   "cell_type": "code",
   "execution_count": 15,
   "metadata": {},
   "outputs": [],
   "source": [
    "soup = url_to_soup(base_url, headers)\n",
    "        \n",
    "current_semester = soup.find('ul', attrs={'class':'sub-sub-menu'})\n",
    "\n",
    "if current_semester is None:\n",
    "    SystemExit(\"could not find element\")\n",
    "\n",
    "courses = []\n",
    "course_list_elements = current_semester.find_all('li', attrs={'class':'sub-sub-menu-item' })\n",
    "\n",
    "if course_list_elements is not None:\n",
    "    for i in current_semester.find_all('li', attrs={'class':'sub-sub-menu-item' }):\n",
    "        courses.append(i.find('span').getText())\n",
    "else:\n",
    "    SystemExit(\"could not find element\")"
   ]
  },
  {
   "cell_type": "code",
   "execution_count": 54,
   "metadata": {},
   "outputs": [
    {
     "name": "stdout",
     "output_type": "stream",
     "text": [
      "None\n",
      "None\n",
      "None\n",
      "None\n",
      "None\n",
      "<a class=\"regular\" href=\"https://studium.uni-muenster.de/qisserver/rds?state=verpublish&amp;status=init&amp;vmfile=no&amp;moduleCall=webInfo&amp;publishConfFile=webInfoRaum&amp;publishSubDir=raum&amp;keep=y&amp;raum.rgid=17157\" title=\"See details on Room LEO 18.3\">Leonardo-Campus 18 - LEO 18.3</a>\n",
      "None\n",
      "None\n",
      "None\n",
      "None\n",
      "None\n",
      "None\n",
      "None\n",
      "None\n",
      "None\n",
      "None\n",
      "None\n",
      "<a class=\"regular\" href=\"https://studium.uni-muenster.de/qisserver/rds?state=verpublish&amp;status=init&amp;vmfile=no&amp;moduleCall=webInfo&amp;publishConfFile=webInfoRaum&amp;publishSubDir=raum&amp;keep=y&amp;raum.rgid=17157\" title=\"See details on Room LEO 18.3\">Leonardo-Campus 18 - LEO 18.3</a>\n",
      "None\n",
      "None\n",
      "None\n",
      "None\n",
      "None\n",
      "None\n",
      "None\n",
      "None\n",
      "None\n",
      "None\n",
      "None\n",
      "<a class=\"regular\" href=\"https://studium.uni-muenster.de/qisserver/rds?state=verpublish&amp;status=init&amp;vmfile=no&amp;moduleCall=webInfo&amp;publishConfFile=webInfoRaum&amp;publishSubDir=raum&amp;keep=y&amp;raum.rgid=17157\" title=\"See details on Room LEO 18.3\">Leonardo-Campus 18 - LEO 18.3</a>\n",
      "None\n",
      "None\n",
      "None\n",
      "None\n",
      "None\n",
      "None\n",
      "None\n",
      "None\n",
      "None\n",
      "None\n",
      "None\n",
      "<a class=\"regular\" href=\"https://studium.uni-muenster.de/qisserver/rds?state=verpublish&amp;status=init&amp;vmfile=no&amp;moduleCall=webInfo&amp;publishConfFile=webInfoRaum&amp;publishSubDir=raum&amp;keep=y&amp;raum.rgid=17157\" title=\"See details on Room LEO 18.3\">Leonardo-Campus 18 - LEO 18.3</a>\n",
      "None\n",
      "None\n",
      "None\n",
      "None\n",
      "None\n",
      "None\n",
      "None\n",
      "None\n",
      "None\n",
      "None\n",
      "None\n",
      "<a class=\"regular\" href=\"https://studium.uni-muenster.de/qisserver/rds?state=verpublish&amp;status=init&amp;vmfile=no&amp;moduleCall=webInfo&amp;publishConfFile=webInfoRaum&amp;publishSubDir=raum&amp;keep=y&amp;raum.rgid=17157\" title=\"See details on Room LEO 18.3\">Leonardo-Campus 18 - LEO 18.3</a>\n",
      "None\n",
      "None\n",
      "None\n",
      "None\n",
      "None\n",
      "None\n",
      "None\n",
      "None\n",
      "None\n",
      "None\n",
      "None\n",
      "<a class=\"regular\" href=\"https://studium.uni-muenster.de/qisserver/rds?state=verpublish&amp;status=init&amp;vmfile=no&amp;moduleCall=webInfo&amp;publishConfFile=webInfoRaum&amp;publishSubDir=raum&amp;keep=y&amp;raum.rgid=17157\" title=\"See details on Room LEO 18.3\">Leonardo-Campus 18 - LEO 18.3</a>\n",
      "None\n",
      "None\n",
      "None\n",
      "None\n",
      "None\n",
      "None\n",
      "None\n",
      "None\n",
      "None\n",
      "None\n",
      "None\n",
      "<a class=\"regular\" href=\"https://studium.uni-muenster.de/qisserver/rds?state=verpublish&amp;status=init&amp;vmfile=no&amp;moduleCall=webInfo&amp;publishConfFile=webInfoRaum&amp;publishSubDir=raum&amp;keep=y&amp;raum.rgid=17157\" title=\"See details on Room LEO 18.3\">Leonardo-Campus 18 - LEO 18.3</a>\n",
      "None\n",
      "None\n",
      "None\n",
      "None\n",
      "None\n",
      "None\n",
      "None\n",
      "None\n",
      "None\n",
      "None\n",
      "None\n",
      "<a class=\"regular\" href=\"https://studium.uni-muenster.de/qisserver/rds?state=verpublish&amp;status=init&amp;vmfile=no&amp;moduleCall=webInfo&amp;publishConfFile=webInfoRaum&amp;publishSubDir=raum&amp;keep=y&amp;raum.rgid=17157\" title=\"See details on Room LEO 18.3\">Leonardo-Campus 18 - LEO 18.3</a>\n",
      "None\n",
      "None\n",
      "None\n",
      "None\n",
      "None\n",
      "None\n",
      "None\n",
      "None\n",
      "None\n",
      "None\n",
      "None\n",
      "<a class=\"regular\" href=\"https://studium.uni-muenster.de/qisserver/rds?state=verpublish&amp;status=init&amp;vmfile=no&amp;moduleCall=webInfo&amp;publishConfFile=webInfoRaum&amp;publishSubDir=raum&amp;keep=y&amp;raum.rgid=17536\" title=\"See details on Room M B 2 (M 2)\">Einsteinstr. 64 - M B 2 (M 2)</a>\n",
      "None\n",
      "None\n",
      "None\n",
      "None\n",
      "None\n",
      "None\n",
      "None\n",
      "None\n",
      "None\n",
      "None\n",
      "None\n",
      "<a class=\"regular\" href=\"https://studium.uni-muenster.de/qisserver/rds?state=verpublish&amp;status=init&amp;vmfile=no&amp;moduleCall=webInfo&amp;publishConfFile=webInfoRaum&amp;publishSubDir=raum&amp;keep=y&amp;raum.rgid=17536\" title=\"See details on Room M B 2 (M 2)\">Einsteinstr. 64 - M B 2 (M 2)</a>\n",
      "None\n",
      "None\n",
      "None\n",
      "None\n",
      "None\n",
      "None\n"
     ]
    }
   ],
   "source": [
    "for course in courses:\n",
    "    search_url = search_url_pattern.format(search_string=requests.utils.quote(course))\n",
    "    \n",
    "    soup = url_to_soup(search_url, headers)\n",
    "    \n",
    "    number_search_results_string = soup.find('h2').getText()\n",
    "    \n",
    "    if number_search_results_string is not None:\n",
    "        number_search_results = int(re.sub(r'[^0-9,.]', ' ', number_search_results_string))\n",
    "    else:\n",
    "        SystemExit(\"could not find element\")\n",
    "    \n",
    "    if number_search_results > 1:\n",
    "        SyntaxWarning(\"Learnweb Search results in more than 1 courses\")\n",
    "    elif number_search_results == 0:\n",
    "        SystemError(\"Learnweb Search results in 0 courses\")\n",
    "        \n",
    "    course_name = soup.find('a', attrs={'class':'aalink'}).text\n",
    "        \n",
    "    qis_url = soup.find('div', attrs={'class':'content'}).find('div', attrs={'class':'summary'}).find('a')\n",
    "    \n",
    "    if qis_url is not None:\n",
    "        qis_url = qis_url['href']+'&language=en'\n",
    "        \n",
    "        parsed_qis_url = urlparse(qis_url)\n",
    "        course_id = parse_qs(parsed_qis_url.query)['publishid'][0]\n",
    "        \n",
    "        soup = url_to_soup(qis_url)\n",
    "        \n",
    "        # Quispos table crawling\n",
    "        table_data = []\n",
    "        table = soup.find('table', attrs={'summary':'Übersicht über alle Veranstaltungstermine'})\n",
    "        rows = table.find_all('tr')\n",
    "        for row in rows:\n",
    "            cols = row.find_all('td')\n",
    "            filtered_cols = []\n",
    "            for ele in cols:\n",
    "                room = ele.find('a', attrs={'class':'regular'})\n",
    "\n",
    "                if room is not None:\n",
    "                    room_link = room['href']\n",
    "\n",
    "                    parsed_room_link = urlparse(room_link)\n",
    "                    link_params = parse_qs(parsed_room_link.query)\n",
    "\n",
    "                    if 'raum.rgid' in link_params:\n",
    "                        room_id = link_params['raum.rgid'][0]\n",
    "                        filtered_cols.append(room_id)\n",
    "                    else:\n",
    "                        filtered_cols.append(ele.text.strip())\n",
    "                else:\n",
    "                    filtered_cols.append(ele.text.strip())\n",
    "                \n",
    "            table_data.append(filtered_cols)"
   ]
  },
  {
   "cell_type": "code",
   "execution_count": 63,
   "metadata": {},
   "outputs": [],
   "source": [
    "for entry in table_data[1:]:\n",
    "    weekday = entry[1]\n",
    "    start_end_time = entry[2].replace(u'\\xa0', u' ')\n",
    "    start_time, end_time = start_end_time.split(' to ')\n",
    "    rythm = entry[3]\n",
    "    start_end_date = entry[4]\n",
    "    room_id = entry[5]"
   ]
  },
  {
   "cell_type": "markdown",
   "metadata": {},
   "source": [
    "## Get Rooms"
   ]
  },
  {
   "cell_type": "code",
   "execution_count": 17,
   "metadata": {},
   "outputs": [],
   "source": [
    "document = url_to_soup('https://studium.uni-muenster.de/qisserver/rds?state=change&type=6&moduleParameter=raumSelect&nextdir=change&next=SearchSelect.vm&target=raumSearch&subdir=raum&source=state%3Dchange%26type%3D5%26moduleParameter%3DraumSearch%26nextdir%3Dchange%26next%3Dsearch.vm%26subdir%3Draum%26_form%3Ddisplay%26topitem%3Dfacilities%26subitem%3DsearchFacilities%26function%3Dnologgedin%26field%3Ddtxt&targetfield=dtxt&_form=display&noDBAction=y&init=y')"
   ]
  },
  {
   "cell_type": "code",
   "execution_count": 35,
   "metadata": {},
   "outputs": [],
   "source": [
    "fieldset = document.find_all('fieldset')[1]\n",
    "room_ids = []\n",
    "for room in fieldset.find_all('a', href=True):\n",
    "    room_link = room['href']\n",
    "    \n",
    "    parsed_room_link = urlparse(room_link)\n",
    "    link_params = parse_qs(parsed_room_link.query)\n",
    "    if 'raum.rgid' in link_params:\n",
    "        room_id = link_params['raum.rgid'][0]\n",
    "        room_ids.append(room_id)"
   ]
  },
  {
   "cell_type": "code",
   "execution_count": 47,
   "metadata": {},
   "outputs": [],
   "source": [
    "url_pattern = 'https://studium.uni-muenster.de/qisserver/rds?state=wsearchv&search=3&alias_einrichtung.eid=einrichtung.dtxt&alias_k_raumart.raumartid=k_raumart.dtxt&raum.rgid={room_id}&P_start=0&P_anzahl=10&_form=display&language=en'"
   ]
  },
  {
   "cell_type": "code",
   "execution_count": 95,
   "metadata": {},
   "outputs": [
    {
     "name": "stdout",
     "output_type": "stream",
     "text": [
      "17136 1.05 Alter Steinweg 6/7 50\n",
      "17262 13 Schlossgarten 4 0\n",
      "18050 17 Orléans-Ring 10 0\n"
     ]
    }
   ],
   "source": [
    "for room_id in room_ids[0:5]:\n",
    "    url_pattern_formatted = url_pattern.format(room_id=room_id)\n",
    "    \n",
    "    document = url_to_soup(url_pattern_formatted)\n",
    "    \n",
    "    info_row = document.find('div', attrs={'class':'InfoLeiste'}).text\n",
    "    hits = int(re.findall(r'(.*)(?=hits)', info_row)[0])\n",
    "    \n",
    "    if hits != 0:\n",
    "        rows = document.find_all('div', attrs={'class':'erg_list_entry'})\n",
    "        \n",
    "        room_name: str = None\n",
    "        room_address: str = None\n",
    "        room_seats: int = None\n",
    "        for row in rows:\n",
    "            row_label = row.find('div', attrs={'class':'erg_list_label'}).text\n",
    "            if 'Room:' in row_label:\n",
    "                room_name = row.find('strong').text.strip().replace(',','')\n",
    "            elif 'Building Address:' in row_label:\n",
    "                room_address = row.find('div', attrs={'class':'erg_list_label'}).next_sibling.strip().replace(',','')\n",
    "            elif 'Equipment:' in row_label:\n",
    "                room_seats = int(re.findall(r'(?<=Plätze:)(.\\s*[0-9]*)(?=[a-zA-Z]*)', row.text)[0])\n",
    "                \n",
    "        print(room_id, room_name, room_address, room_seats)\n"
   ]
  },
  {
   "cell_type": "markdown",
   "metadata": {},
   "source": [
    "## Get long and lat of room"
   ]
  },
  {
   "cell_type": "code",
   "execution_count": 2,
   "metadata": {},
   "outputs": [],
   "source": [
    "open_street_map_url = 'https://nominatim.openstreetmap.org/search?q={query}&format=json&polygon=1&addressdetails=1'"
   ]
  },
  {
   "cell_type": "code",
   "execution_count": 3,
   "metadata": {},
   "outputs": [],
   "source": [
    "open_street_map_url_formatted = open_street_map_url.format(query='Leonardo-Campus 18')"
   ]
  },
  {
   "cell_type": "code",
   "execution_count": 8,
   "metadata": {},
   "outputs": [],
   "source": [
    "location_data = requests.get(open_street_map_url_formatted).json()"
   ]
  },
  {
   "cell_type": "code",
   "execution_count": 13,
   "metadata": {},
   "outputs": [
    {
     "ename": "NameError",
     "evalue": "name 'city1' is not defined",
     "output_type": "error",
     "traceback": [
      "\u001b[1;31m---------------------------------------------------------------------------\u001b[0m",
      "\u001b[1;31mNameError\u001b[0m                                 Traceback (most recent call last)",
      "Cell \u001b[1;32mIn [13], line 11\u001b[0m\n\u001b[0;32m      8\u001b[0m     \u001b[39mif\u001b[39;00m \u001b[39m'\u001b[39m\u001b[39mcity\u001b[39m\u001b[39m'\u001b[39m \u001b[39min\u001b[39;00m address:\n\u001b[0;32m      9\u001b[0m         city \u001b[39m=\u001b[39m address[\u001b[39m'\u001b[39m\u001b[39mcity\u001b[39m\u001b[39m'\u001b[39m]\n\u001b[1;32m---> 11\u001b[0m \u001b[39mif\u001b[39;00m city1\u001b[39m.\u001b[39mcasefold() \u001b[39m==\u001b[39m \u001b[39m'\u001b[39m\u001b[39mmünster\u001b[39m\u001b[39m'\u001b[39m:\n\u001b[0;32m     13\u001b[0m     \u001b[39mif\u001b[39;00m \u001b[39m'\u001b[39m\u001b[39mlat\u001b[39m\u001b[39m'\u001b[39m \u001b[39min\u001b[39;00m data:\n\u001b[0;32m     14\u001b[0m         lat \u001b[39m=\u001b[39m data[\u001b[39m'\u001b[39m\u001b[39mlat\u001b[39m\u001b[39m'\u001b[39m]\n",
      "\u001b[1;31mNameError\u001b[0m: name 'city1' is not defined"
     ]
    }
   ],
   "source": [
    "lon: str = None\n",
    "lat: str = None\n",
    "for data in location_data:\n",
    "    \n",
    "    if 'address' in data:\n",
    "        address = data['address']\n",
    "        \n",
    "        if 'city' in address:\n",
    "            city = address['city']\n",
    "            \n",
    "            if city.casefold() == 'münster':\n",
    "                \n",
    "                if 'lat' in data:\n",
    "                    lat = data['lat']\n",
    "                if 'lon' in data:\n",
    "                    lon = data['lon']\n",
    "                    \n",
    "                break\n",
    "            "
   ]
  }
 ],
 "metadata": {
  "kernelspec": {
   "display_name": "Python 3.9.13 ('mensa_recommend')",
   "language": "python",
   "name": "python3"
  },
  "language_info": {
   "codemirror_mode": {
    "name": "ipython",
    "version": 3
   },
   "file_extension": ".py",
   "mimetype": "text/x-python",
   "name": "python",
   "nbconvert_exporter": "python",
   "pygments_lexer": "ipython3",
   "version": "3.9.13"
  },
  "orig_nbformat": 4,
  "vscode": {
   "interpreter": {
    "hash": "9b32cfbcb2916ecbe22349bc86ea1239cf2858dd3049102660b6b02e358fd020"
   }
  }
 },
 "nbformat": 4,
 "nbformat_minor": 2
}
