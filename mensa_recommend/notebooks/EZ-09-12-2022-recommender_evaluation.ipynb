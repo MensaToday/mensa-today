{
 "cells": [
  {
   "cell_type": "code",
   "execution_count": 15,
   "metadata": {
    "collapsed": true
   },
   "outputs": [],
   "source": [
    "import numpy as np\n",
    "\n",
    "dishes = [(2, 'Ravioli mit Ricotta-Spinatfüllung mit Tomaten-Pestosauce', [2], [1, 4], [1, 7, 13], True), (3, 'Ricotta-Spinat-Cannelloni und Tomatensauce', [2], [], [1, 7, 9, 13], True), (4, 'Sojagyros mit Zaziki und Krautsalat', [1], [], [12, 24], True), (5, 'Schupfnudeln mit Spitzkohl und Kräuterrahmsauce', [1], [1, 2], [1, 7, 12], True), (7, 'Kräuterbulgur', [1], [1], [1, 7], False), (8, 'Backkartoffel mit Kräuter-Quark', [2], [], [13], True), (9, 'Kartoffel-Möhrenauflauf', [2], [], [9, 13], True), (11, 'Käse-Lauchsuppe mit halbem Baguettebrötchen', [2], [1, 2], [1, 7, 13], True), (12, 'Nudeln', [1], [], [1, 7], False), (14, 'Gemüse-Tortellini mit Tomaten-Chilisauce', [2], [1], [1, 7, 13, 23], True), (16, '5 Stück Rostbratwürstchen Nürnberger Art mir Bratensauce', [3], [], [24], True), (17, 'Hähnchennuggets in Knusperpanade mit süß-saurer Sauce', [5], [2], [1, 7], True), (18, '5 Stück Rostbratwürstchen nach Nürnberger Art mir Bratensauce', [3], [], [24], True), (20, 'Sojastreifen nach mexikanischer Art', [1], [3], [12], True), (21, 'Gebackenes Alaska Seelachsfilet mit fruchtig-scharfem Senf Dip', [7], [2], [1, 7, 9, 10, 13, 24], True), (22, 'Kaisergemüse', [1], [1], [], False), (24, 'Gefüllte Paprikaschote mit Kräutercouscous', [1], [1], [1, 7, 23, 24], True), (25, 'Paella mit Räuchertofu', [1], [6], [12], True), (28, 'Mischgemüse', [1], [1], [], False), (29, 'Vollkornnudelpfanne mit Gemüse', [1], [], [1, 7], True), (32, 'Chili con Carne mit Fladenbrot', [4], [3], [1, 6, 7, 25], True), (34, 'Salzkartoffeln', [1], [1], [], False), (37, 'Tomatenreis', [1], [1], [], False), (38, 'Alaska-Seelachsfilet in Kartoffelpanade mit Kräutersauce', [7], [], [1, 7, 10, 13], True), (41, 'Kartoffel-Gemüse-Gratin', [2], [], [13], True), (43, 'Hähnchennuggets in Knusperpanade mit Paprika-Quark Dip', [5], [3], [1, 7, 13], True), (44, 'Bowl Italy', [2], [6], [13, 14, 18], True), (48, 'Eisbergsalat mit Cocktaildressing', [2], [2], [1, 7, 9, 24], False), (49, 'Kräutercouscous', [1], [1], [1, 7], False), (51, 'Frikadelle mit Rahmsauce', [3, 4], [], [1, 7, 9, 13, 24], True), (54, 'Gurkensalat', [1], [], [], False), (57, 'Süßkartoffelcurry mit Paprika und Pilzen', [1], [4], [23], True), (59, 'Coleslaw', [2], [2], [1, 7, 9, 23, 24], False), (61, 'Leberkäse mit Bratensauce mit Schmorzwiebeln', [3], [1, 2, 3, 4], [24], True), (62, 'Pariser Kartoffeln \"Münsterlandknolle\"', [1], [1], [], False), (63, 'Kartoffelpüree \"Münsterlandknolle\"', [2], [1], [13], False), (64, 'Erbsen und Möhren', [1], [], [], False), (66, 'Hähnchenbrustfilet paniert Curry-Früchtesauce', [5], [1, 3], [1, 7, 13], True), (69, 'Beilagensalat', [1], [], [], False), (71, 'Pommes frites', [1], [], [], False), (73, 'Couscous', [1], [], [1, 7], False), (76, 'Buddha Bowl mit Wildreis und Süßkartoffel Erdnuss-Dip mit Sesam Dip mit Honig-Senfdressing', [2], [2, 5], [1, 7, 11, 12, 24, 25], True), (77, 'Spinat-Dinkel-Knusperplätzchen mit Knoblauch Dip', [2], [3], [1, 2, 7, 9, 12, 13, 23, 24], True), (79, 'Leipziger Allerlei', [1], [1], [], False), (82, 'Möhrensalat', [1], [], [], False), (83, 'Möhren', [1], [1], [], False), (87, 'Cevapcici mit Zaziki', [4], [], [1, 7, 9, 13, 24], True), (88, 'Kräuter-Bulgur', [1], [1], [1, 7], False), (89, 'Chili-Cheese-Nuggets mit Ananassalsa', [2], [1, 2], [1, 7, 13, 24], True), (92, 'Broccoli-Nussecke mit Schnittlauchsauce', [1], [], [1, 4, 7, 12, 14, 15, 16, 23], True), (93, 'Rinderroulade', [3, 4], [2, 3], [24], True), (95, 'Paniertes Seelachsfilet mit Remoulade', [7], [2, 9], [1, 7, 9, 10, 13, 24], True), (96, 'Hähnchen Piccata mit Tomatensauce', [5], [], [1, 7, 13], True), (97, 'Medi-Vegi-Burger mit Tomatencreme', [2], [], [1, 2, 3, 4, 7, 13, 25], True), (100, 'Chili con Carne', [4], [3], [], True), (103, 'Pfeffer-Cheese-Burger mit Rindfleischpatty, Salat, Tomate, Pfefferkäse und Paprikadip', [4], [1, 2, 9], [1, 7, 12, 13, 24, 25], True), (105, 'Brechbohnen', [1], [], [], False), (107, 'Pommes Frites', [1], [], [], False), (108, 'Veganer Grünkohleintopf', [1], [1], [24], True), (110, 'Kasselergeschnetzeltes in Malzbiersauce', [3], [1, 2, 3], [1, 3], True), (111, 'Gyrosbraten Tzatziki, Krautsalat und Reis', [3], [1], [13], True), (124, 'Spätzle', [2], [1], [1, 7, 9], False), (114, 'Burger Greek mit Tomatencreme', [2], [1, 5], [1, 7, 9, 13, 14, 17], True), (133, 'Veganer Burger Sunny mit Limettenmayonnaise mit Gemüsepatty', [1], [1, 4], [1, 4, 7, 12, 24], True), (160, 'Suppenbowl mit Tofu', [1], [], [1, 7, 12, 23, 25], True), (115, 'Prinzessbohnen mit Zwiebelschmelze', [1], [1], [], False), (121, 'Kartoffelpüree Münsterlandknolle', [2], [1], [13], False), (144, 'Pfirsichquark', [2], [], [13], False), (117, 'Quark mit Blaubeeren', [2], [], [13], False), (118, 'Bulgurschnitte \"Bifteki\" mit Tzatziki', [2], [], [1, 7, 13], True), (132, 'Hähnchenschnitzel mit Rahmsauce', [5], [], [1, 7, 9], True), (149, 'Rostbratwürstchen mit Kartoffelpüree und Sauerkraut', [3], [1], [13], True), (170, 'Krautsalat mit Möhre', [1], [], [], False), (176, 'Beilagensalat mit Essig-Öl-Dressing oder Joghurtdressing', [2], [3], [13, 24], False), (196, 'Gemüseeintopf', [1], [1], [], True), (119, 'Herzogin-Kartoffeln', [2], [], [13], False), (143, 'Mandarinenquark', [2], [], [13], False), (150, 'Bayrische Creme Dessertkirschen', [2], [], [9, 13], False), (120, 'Pommes Frites klein', [1], [], [], False), (134, 'Farmersalat', [1], [3], [23], False), (148, 'Tricoloregemüse', [1], [1], [], False), (152, 'Vegetarische Bratwurst', [2], [], [1, 7, 9], True), (166, 'Bratwurst', [3], [3], [24], True), (122, 'Gefüllte Paprikaschote mit Tomatensauce', [1], [], [1, 7, 23, 24], True), (139, 'Prinzessbohnen', [1], [1], [], False), (180, 'Erdbeerjoghurt', [2], [], [13], False), (186, 'Tiramisu', [2], [], [1, 7, 9, 13], False), (123, 'Spaghetti nach Carbonara Art mit einem Farmersalat', [3], [1, 2, 3, 4, 8], [12, 13, 23], True), (155, 'Schmorkartoffeln \"Münsterlandknolle\"', [1], [], [], False), (164, 'Sommergemüse', [1], [1], [], False), (169, 'Kartoffelpüree', [2], [1], [13], False), (174, 'Westfälisches Mettendchen', [3, 4], [1, 2, 3, 4], [], True), (125, 'Rosmarinkartoffeln \"Münsterlandknolle\" mit Kräuter-Knoblauch Dip', [1], [4], [12, 24], True), (142, 'Ravioli mit Ricotta-Spinatfüllung und Tomaten-Pestosauce', [2], [1, 4], [1, 7, 13], True), (154, '5 Stück Rostbratwürstchen nach Nürnberger Art mit Bratensauce', [3], [], [24], True), (163, 'Gemüse-Burger mit Gemüse-Kartoffelpuffer, Pfefferkäse und Paprikadip', [2], [1, 2, 3, 9], [1, 7, 9, 12, 13, 24, 25], True), (183, 'Kurkumareis', [1], [1], [], False), (189, 'Broccolicremesuppe', [1], [1], [12], False), (197, 'Veganer Hafer-Milchreis', [1], [], [1, 4], False), (201, 'Beilagensalat \"griechische Art\" mit Essig-Öl-Dressing', [1], [], [24], False), (203, 'Kartoffelsalat', [2], [2, 9], [1, 7, 9, 13, 24], False), (207, 'Rahmspitzkohl', [2], [1], [1, 7, 13], False), (126, 'Polenta Pizza mit Gemüse', [1], [], [], True), (136, 'Paniertes Schweineschnitzel oder gebratenes Schweinesteak mit Champignonsauce', [3], [1], [1, 7, 9, 13], True), (159, 'Asiasuppe', [2], [], [1, 7, 12, 24], False), (178, 'Fruchtjoghurt im Becher', [2], [], [], False), (192, 'Veganes Hafer Dessert im Becher', [1], [], [1, 4], False), (198, 'Cheese Cake Dessert', [2], [], [9, 13], False), (202, 'Milchreis', [2], [], [12, 13], False), (127, 'Erbseneintopf mit Speck', [3], [1], [23, 24], True), (146, 'Bulgurschnitte \"Salsa\" mit Zaziki', [2], [], [1, 7, 13], True), (157, '1/2 Grillhähnchen mit Pommes frites', [5], [2], [24], True), (175, 'Mini Kartoffelknödel', [2], [], [13], False), (182, 'Apfelrotkohl mit Rotwein', [1, 6], [3], [], False), (190, 'Beilagensalat mit Essig-Öl-Dressing mit Sauerrahmdressing', [2], [3], [13, 24], False), (128, 'Auberginenpfanne nach orientlischer Art mit Paprika-Dip', [2], [], [13], True), (140, 'Fischstäbchen mit Remoulade', [7], [2, 9], [1, 7, 9, 10, 13, 24], True), (168, 'Erbseneintopf mit Speck, Gemüse und Kartoffeln', [3], [2, 3], [23, 24], True), (177, 'Kartoffelpüree mit Rahmspinat und Rührei', [2], [1], [9, 13], True), (185, 'Curryreis', [1], [1], [], False), (194, 'Frühlingsgemüse', [1], [1], [], False), (199, 'Eisbergsalat mit Essig-Öl-Dressing mit Joghurt-Dressing', [2], [], [13, 24], False), (204, 'Spaghetti Carbonara Art und Beilagensalat mit Essig-Öl-Dressing', [3], [1, 2, 3, 4, 8], [1, 7, 12, 13, 24], True), (129, 'Gemüseeintopf nach Pichelsteiner Art', [1], [1], [23], True), (138, 'Lachs-Spinat-Lasagne mit Tomatensauce', [7], [], [1, 7, 10, 13], True), (184, 'Pfirsichjoghurt', [2], [], [13], False), (191, 'Cappuccino Mousse', [2], [], [13], False), (130, 'Kohlrabi', [1], [1], [], False), (131, 'Hausgemachter veganer Erbseneintopf', [1], [1], [23, 24], True), (141, 'Balkangemüse', [1], [1], [23], False), (151, 'Gemüseschnitzel mit Sauce beàrnaise', [2], [], [1, 2, 7, 9, 13, 23], True), (158, 'Romanesco', [1], [1], [], False), (172, 'Risotto mit Serrano-Schinken, mit frischem Baby-Spinat und gehobeltem Grana Padano-Käse', [3, 4, 6], [1, 2, 3, 4], [13], True), (188, 'Gemüse-Burger mit Gemüse-Kartoffelpuffer, Pfefferkäse und Paprikasauce', [2], [1, 2, 3, 9], [1, 7, 9, 12, 13, 24, 25], True), (208, 'Kartoffelsuppe', [1], [1], [12, 23], False), (209, 'Mettendchen', [3, 4], [1, 2, 3, 4], [], True), (137, 'Linsensuppe', [1], [], [1, 7, 12], True), (181, 'Grießpudding', [1], [], [1, 7, 12], False), (145, 'Pfannengyros vom Schwein Zaziki, Krautsalat und Pommes frites', [3], [], [13], True), (161, 'Veganes Soja Dessert', [1], [8], [12], False), (162, 'Rahmspinat', [2], [1, 5], [13], False), (171, 'Lauchcremesuppe', [1], [1], [12], False), (147, 'Schwarzwurzeln', [1], [1, 2], [], False), (153, 'Vanillecreme', [2], [], [13], False), (167, 'Frisches Obst Äpfel:, Bananen:', [1], [], [], False), (173, 'Veganer Hafer-Beeren-Joghurt', [1], [], [1, 4], False), (187, 'Quarkspeise', [2], [], [13], False), (193, 'Frischer Obstsalat', [1], [3], [], False), (195, 'Grillwurst oder vegetarische Bratwurst', [3], [3], [1, 7, 9, 24], True), (200, 'Currywurst oder vegetarische Currywurst', [3], [3], [1, 7, 9, 24], True), (205, 'Frisches, großes, gegrilltes Hähnchen', [5], [], [24], True), (206, 'Pommes frites große Portion: 1,40€ / 2,10€', [], [], [], True), (156, 'Kirschquark', [2], [], [13], False), (165, 'Schokoladenpudding', [1, 2], [5], [12, 13], False), (1, 'Veganer Erbseneintopf', [1], [1], [23, 24], True), (6, 'Auberginenpfanne nach orientalischer Art', [1], [], [], True), (10, 'Kartoffelrösti mit mediterranem Gemüse', [2], [], [13], True), (13, 'Kartoffelpfanne mit Pilzen nach Hessischer Art', [1], [], [], True), (15, 'Köttbullar mit Preiselbeeren mit Rahmsauce', [3, 4], [], [13], True), (19, 'Hähnchennuggets in Knusperpanade mit Kartoffelcreme', [5], [2], [1, 7, 9, 13, 24], True), (23, 'Hokifilet nach Müllerin Art', [7], [], [1, 7, 10, 13, 24], True), (26, 'Rahmkohlrabi', [2], [], [13], False), (27, 'Paniertes Schweineschnitzel mit Champignonsauce', [3], [1], [1, 7, 9, 13], True), (30, 'Blumenkohl', [1], [], [], False), (31, 'Pizza mit Paprika und Zucchini', [2], [], [1, 7, 13, 23], True), (33, 'Chinakohlsalat mit Cocktaildressing', [2], [2], [1, 7, 9, 24], False), (36, 'Beilagensalat mit Balsamicodressing', [1], [1], [24], False), (39, 'Reis', [1], [1], [], False), (42, 'Reis-Gemüsepfanne', [1], [1, 3], [23], True), (45, 'Champignontasche mit Kräutersauce', [2], [], [1, 2, 7, 9, 13, 23], True), (46, 'Gemüsereis', [1], [], [23], False), (50, 'Pariser Möhren', [1], [1], [], False), (52, 'Currywurst mit Kräutercouscous', [3], [1, 2], [1, 7, 24], True), (53, 'Rosenkohl', [1], [], [], False), (55, 'Broccoli', [1], [1], [], False), (56, 'Beilagensalat mit Cocktaildressing', [2], [2], [1, 7, 9, 24], False), (58, 'Rahmwirsing', [2], [1], [13], False), (60, 'Bowl Orient mit Honig-Senfdressing', [2], [5], [1, 7, 24], True), (65, 'Lasagne Bolognese', [4], [1], [1, 7, 9, 13, 23], True), (67, 'Kartoffelecken Ratatouille mit Kartoffelcreme', [2], [1, 2], [9, 13, 24], True), (68, 'Schupfnudeln mit Paprikasauce', [2], [1], [1, 7, 9, 23], True), (70, 'Falafeln mit Tomatensauce', [1], [1], [1, 7], True), (72, 'Ratatouille', [1], [1], [], False), (74, 'Beilagensalat mit Essig-Öl-Dressing', [1], [3], [24], False), (75, 'Gefüllter Germknödel mit Pflaumenmus mit Vanillesauce', [2], [], [1, 7, 13], True), (78, 'Back-Camembert mit Preiselbeeren', [2], [], [1, 7, 13], True), (80, 'Salzkartoffeln \"Münsterlandknolle\"', [1], [1], [], False), (81, 'Bunter Falafelteller mit Falafeln, mit Zaziki', [1], [], [1, 7, 12, 24], True), (84, 'Bulgur-Gemüsepfanne', [1], [1], [1, 7], True), (85, 'Kichererbsen-Curry-Pfanne mit Paprika und Zucchini', [1], [], [], True), (86, 'Süßkartoffel-Curry mit Bohnen und Gemüsen', [1], [], [11], True), (90, 'Ricotta-Spinat-Cannelloni mit Tomatensauce', [2], [], [1, 7, 9, 13], True), (91, 'Pizza Prosciutto', [3], [2, 3, 4, 8], [1, 7, 13], True), (94, 'Chili con Carne-Eintopf', [4], [1, 3], [], True), (98, 'Frikadelle mit Currysauce', [3, 4], [], [1, 7, 9, 24], True), (102, 'Hausgemachter Asia-Eintopf mit Hühnerfleisch', [5], [2], [1, 7, 12, 24], True), (104, 'Sauerkraut', [1], [1], [], False), (106, 'Gemüsebrühe mit Nudeln und Ei', [2], [4], [1, 7, 9, 23], False), (109, 'Süßkartoffel-Curry mit Erdnüssen', [1], [], [11], True), (112, 'Broccoli mit Mandelblättchen', [1], [1], [14, 15], False), (113, 'Nudelauflauf mit Sojabolognese', [2], [], [1, 7, 12, 13], True)]"
   ]
  },
  {
   "cell_type": "code",
   "execution_count": 16,
   "outputs": [],
   "source": [
    "ids = []\n",
    "names = []\n",
    "categories = []\n",
    "additives = []\n",
    "allergies = []\n",
    "main = []\n",
    "\n",
    "for d in dishes:\n",
    "    o0, o1, o2, o3, o4, o5 = d\n",
    "    if not o5:\n",
    "        continue\n",
    "\n",
    "    ids.append(o0)\n",
    "    names.append(o1)\n",
    "    categories.append(o2)\n",
    "    additives.append(o3)\n",
    "    allergies.append(o4)\n",
    "    main.append(o5)"
   ],
   "metadata": {
    "collapsed": false
   }
  },
  {
   "cell_type": "code",
   "execution_count": 17,
   "outputs": [],
   "source": [
    "def encode_binary(l):\n",
    "    max_val = max(l)[0]\n",
    "    res = []\n",
    "\n",
    "    for o in l:\n",
    "        part = []\n",
    "        for value in range(max_val):\n",
    "            part.append(1 if value in o else 0)\n",
    "        res.append(part)\n",
    "    return res"
   ],
   "metadata": {
    "collapsed": false
   }
  },
  {
   "cell_type": "code",
   "execution_count": 18,
   "outputs": [],
   "source": [
    "enc_cat = encode_binary(categories)\n",
    "enc_add = encode_binary(additives)\n",
    "enc_all = encode_binary(allergies)\n",
    "\n",
    "enc = []\n",
    "\n",
    "for i in range(len(enc_cat)):\n",
    "    enc.append(enc_cat[i] + enc_add[i] + enc_all[i])"
   ],
   "metadata": {
    "collapsed": false
   }
  },
  {
   "cell_type": "code",
   "execution_count": 90,
   "outputs": [],
   "source": [
    "from numpy import dot\n",
    "from numpy.linalg import norm\n",
    "\n",
    "def cosine_similarity(l1, l2):\n",
    "    if len(l1) != len(l2):\n",
    "        raise ValueError(f\"Length of l1 ({len(l1)}) does not match length of \"\n",
    "                         f\"l2 ({len(l2)}).\")\n",
    "\n",
    "    norm_dis = norm(l1) * norm(l2)\n",
    "    if norm_dis == 0:\n",
    "        return 0\n",
    "\n",
    "    cos_sim = dot(l1, l2) / norm_dis\n",
    "    return cos_sim"
   ],
   "metadata": {
    "collapsed": false
   }
  },
  {
   "cell_type": "code",
   "execution_count": 88,
   "outputs": [],
   "source": [
    "import numpy as np\n",
    "from sentence_transformers import SentenceTransformer\n",
    "\n",
    "classifier: SentenceTransformer = SentenceTransformer('all-MiniLM-L6-v2')  # bigger: all-mpnet-base-v2\n",
    "embeds: np.ndarray = classifier.encode(names)"
   ],
   "metadata": {
    "collapsed": false
   }
  },
  {
   "cell_type": "code",
   "execution_count": 91,
   "outputs": [],
   "source": [
    "enc_bert = []\n",
    "\n",
    "for i in range(len(names)):\n",
    "    enc_bert.append(enc[i] + list(np.multiply(embeds[i], 1)))"
   ],
   "metadata": {
    "collapsed": false
   }
  },
  {
   "cell_type": "markdown",
   "source": [
    "# Test Set Creation"
   ],
   "metadata": {
    "collapsed": false
   }
  },
  {
   "cell_type": "code",
   "execution_count": 92,
   "outputs": [],
   "source": [
    "from random import shuffle\n",
    "\n",
    "def start_rating(iterations: int = 50):\n",
    "    user_name = input(\"What's your name?\")\n",
    "    if len(user_name) == 0:\n",
    "        print(\"You have to enter a name.\")\n",
    "        return\n",
    "\n",
    "    resulting_ratings = {}\n",
    "\n",
    "    indices: list = list(range(len(names)))\n",
    "    shuffle(indices)\n",
    "\n",
    "    for j in range(iterations):\n",
    "        if len(indices) == 0:\n",
    "            break\n",
    "        idx = indices.pop(0)\n",
    "\n",
    "        def take_rating(info_text: str = \"Available options: 1..5, ?\"):\n",
    "            rating = input(f\"What do you think about:      {j + 1}/{iterations}\\n{names[idx]}\\n\\n{info_text}\")\n",
    "            if rating.isnumeric() and int(rating) == float(rating):\n",
    "                resulting_ratings[ids[idx]] = float(rating) / 5.0\n",
    "                return False\n",
    "            elif len(rating) == 0:\n",
    "                # closing window\n",
    "                return True\n",
    "            elif rating == \"?\":\n",
    "                return False\n",
    "            else:\n",
    "                return take_rating(info_text=\"Please use on of the following options: 1..5, ?, exit\")\n",
    "\n",
    "        if take_rating():\n",
    "            break\n",
    "\n",
    "    return user_name, resulting_ratings"
   ],
   "metadata": {
    "collapsed": false
   }
  },
  {
   "cell_type": "code",
   "execution_count": 29,
   "outputs": [
    {
     "name": "stdout",
     "output_type": "stream",
     "text": [
      "Erik, here are your ratings:\n",
      " {113: 0.6, 17: 0.8, 18: 1.0, 51: 1.0, 110: 0.4, 21: 1.0, 84: 0.8, 87: 0.8, 97: 0.6, 44: 0.4, 96: 0.4, 1: 0.6, 76: 0.8, 204: 0.6, 103: 0.6, 32: 0.2, 142: 0.8, 24: 0.6, 67: 0.6, 157: 0.8, 129: 0.8, 20: 0.6, 108: 0.2, 75: 0.2, 19: 0.8, 102: 0.6, 10: 0.6, 111: 0.4, 133: 0.6, 2: 0.8, 118: 0.4, 6: 0.2, 42: 0.4, 146: 0.4, 68: 0.8, 65: 0.8, 14: 0.6, 8: 0.8, 60: 0.4, 15: 0.4, 94: 1.0, 127: 0.6, 114: 0.6, 31: 0.8, 45: 0.6, 78: 0.2, 209: 0.6, 168: 0.6, 137: 0.2, 172: 0.4}\n"
     ]
    }
   ],
   "source": [
    "name, ratings = start_rating()\n",
    "\n",
    "print(f\"{name}, here are your ratings:\\n\", ratings)"
   ],
   "metadata": {
    "collapsed": false
   }
  },
  {
   "cell_type": "code",
   "execution_count": 72,
   "outputs": [],
   "source": [
    "own_ratings = {113: 0.6, 17: 0.8, 18: 1.0, 51: 1.0, 110: 0.4, 21: 1.0, 84: 0.8, 87: 0.8, 97: 0.6, 44: 0.4, 96: 0.4, 1: 0.6, 76: 0.8, 204: 0.6, 103: 0.6, 32: 0.6, 142: 0.8, 24: 0.6, 67: 0.6, 157: 0.8, 129: 0.8, 20: 0.6, 108: 0.2, 75: 0.2, 19: 0.8, 102: 0.6, 10: 0.6, 111: 0.4, 133: 0.6, 2: 0.8, 118: 0.4, 6: 0.2, 42: 0.4, 146: 0.4, 68: 0.8, 65: 0.8, 14: 0.6, 8: 0.8, 60: 0.4, 15: 0.4, 94: 1.0, 127: 0.6, 114: 0.6, 31: 0.8, 45: 0.6, 78: 0.2, 209: 0.6, 168: 0.6, 137: 0.2, 172: 0.4}"
   ],
   "metadata": {
    "collapsed": false
   }
  },
  {
   "cell_type": "markdown",
   "source": [
    "# Recommendation\n",
    "###### based on content-based filtering"
   ],
   "metadata": {
    "collapsed": false
   }
  },
  {
   "cell_type": "code",
   "execution_count": 93,
   "outputs": [],
   "source": [
    "def get_profile(user_ratings, encodings):\n",
    "    x = [0] * len(encodings[0])\n",
    "    for item_id in user_ratings:\n",
    "        x += np.multiply(user_ratings[item_id], encodings[ids.index(item_id)])\n",
    "    return x\n",
    "\n",
    "def compute_similarities(profile, encodings):\n",
    "    sim = []\n",
    "    for j in range(len(encodings)):\n",
    "        sim.append(cosine_similarity(profile, encodings[j]))\n",
    "    return sim\n",
    "\n",
    "def distance(user_ratings, encodings):\n",
    "    X = get_profile(user_ratings, encodings)\n",
    "    sim = compute_similarities(X, encodings)\n",
    "\n",
    "    dist = 0\n",
    "    for j in range(len(sim)):\n",
    "        item_id = ids[j]\n",
    "        if item_id in user_ratings:\n",
    "            dist += abs(user_ratings[item_id] - sim[j])\n",
    "    return round(dist, 5), round(dist / len(user_ratings), 5), len(X)"
   ],
   "metadata": {
    "collapsed": false
   }
  },
  {
   "cell_type": "code",
   "execution_count": 94,
   "outputs": [
    {
     "name": "stdout",
     "output_type": "stream",
     "text": [
      "Recommendations based on 50 ratings.\n",
      "0.20863 : Only dish categories, additives, allergies : 37\n",
      "0.19435 : categories, additives, allergies + BERT embeds : 421\n",
      "0.17663 : BERT embeds : 384\n"
     ]
    }
   ],
   "source": [
    "print(f\"Recommendations based on {len(ratings)} ratings.\")\n",
    "res_dish_info = distance(own_ratings, enc)\n",
    "print(res_dish_info[1], \": Only dish categories, additives, allergies\", \":\", res_dish_info[2])\n",
    "res_dish_info_bert = distance(own_ratings, enc_bert)\n",
    "print(res_dish_info_bert[1], \": categories, additives, allergies + BERT embeds\", \":\", res_dish_info_bert[2])\n",
    "res_bert = distance(own_ratings, embeds)\n",
    "print(res_bert[1], \": BERT embeds\", \":\", res_bert[2])"
   ],
   "metadata": {
    "collapsed": false
   }
  },
  {
   "cell_type": "markdown",
   "source": [
    "# Results\n",
    "\n",
    "bert model: all-MiniLM-L6-v2 (smaller)\n",
    "\n",
    "Recommendations based on 50 ratings.\n",
    "0.20863 : Only dish categories, additives, allergies : 37\n",
    "0.19435 : categories, additives, allergies + BERT embeds : 421\n",
    "0.17663 : BERT embeds : 384\n",
    "\n",
    "=====\n",
    "\n",
    "bert model: all-mpnet-base-v2 (larger)\n",
    "\n",
    "Recommendations based on 50 ratings.\n",
    "0.20863 : Only dish categories, additives, allergies : 37\n",
    "0.19774 : categories, additives, allergies + BERT embeds : 805\n",
    "0.18836 : BERT embeds : 768"
   ],
   "metadata": {
    "collapsed": false
   }
  }
 ],
 "metadata": {
  "kernelspec": {
   "display_name": "Python 3",
   "language": "python",
   "name": "python3"
  },
  "language_info": {
   "codemirror_mode": {
    "name": "ipython",
    "version": 2
   },
   "file_extension": ".py",
   "mimetype": "text/x-python",
   "name": "python",
   "nbconvert_exporter": "python",
   "pygments_lexer": "ipython2",
   "version": "2.7.6"
  }
 },
 "nbformat": 4,
 "nbformat_minor": 0
}
