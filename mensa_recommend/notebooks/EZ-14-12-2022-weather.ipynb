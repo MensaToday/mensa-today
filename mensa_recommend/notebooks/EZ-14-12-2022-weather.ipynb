{
 "cells": [
  {
   "cell_type": "code",
   "execution_count": 3,
   "metadata": {
    "collapsed": true,
    "pycharm": {
     "name": "#%%\n"
    }
   },
   "outputs": [],
   "source": [
    "import threading\n",
    "\n",
    "import requests"
   ]
  },
  {
   "cell_type": "code",
   "execution_count": 8,
   "outputs": [
    {
     "name": "stdout",
     "output_type": "stream",
     "text": [
      "{'latitude': 51.96, 'longitude': 7.64, 'generationtime_ms': 0.3859996795654297, 'utc_offset_seconds': 0, 'timezone': 'GMT', 'timezone_abbreviation': 'GMT', 'elevation': 69.0, 'hourly_units': {'time': 'iso8601', 'apparent_temperature': '°C', 'rain': 'mm', 'windspeed_10m': 'km/h'}, 'hourly': {'time': ['2022-12-12T00:00', '2022-12-12T01:00', '2022-12-12T02:00', '2022-12-12T03:00', '2022-12-12T04:00', '2022-12-12T05:00', '2022-12-12T06:00', '2022-12-12T07:00', '2022-12-12T08:00', '2022-12-12T09:00', '2022-12-12T10:00', '2022-12-12T11:00', '2022-12-12T12:00', '2022-12-12T13:00', '2022-12-12T14:00', '2022-12-12T15:00', '2022-12-12T16:00', '2022-12-12T17:00', '2022-12-12T18:00', '2022-12-12T19:00', '2022-12-12T20:00', '2022-12-12T21:00', '2022-12-12T22:00', '2022-12-12T23:00'], 'apparent_temperature': [-3.5, -3.4, -3.3, -3.2, -3.1, -3.5, -3.5, -3.5, -3.7, -3.7, -3.3, -2.8, -2.2, -2.3, -2.4, -2.4, -2.6, -3.0, -4.0, -4.4, -4.9, -6.5, -6.6, -7.0], 'rain': [0.0, 0.0, 0.0, 0.0, 0.0, 0.0, 0.0, 0.0, 0.0, 0.0, 0.0, 0.0, 0.0, 0.0, 0.0, 0.0, 0.0, 0.0, 0.0, 0.0, 0.0, 0.0, 0.0, 0.0], 'windspeed_10m': [6.1, 5.0, 3.7, 3.3, 2.5, 5.2, 5.6, 4.2, 4.7, 4.6, 5.7, 5.0, 4.3, 5.0, 5.9, 5.4, 3.3, 3.4, 3.9, 3.2, 3.1, 3.0, 2.9, 1.5]}}\n"
     ]
    }
   ],
   "source": [
    "api_url = \"https://api.open-meteo.com/v1/forecast?latitude=51.96&longitude=7.63&hourly=apparent_temperature,rain,windspeed_10m&start_date=2022-12-12&end_date=2022-12-12\""
   ],
   "metadata": {
    "collapsed": false,
    "pycharm": {
     "name": "#%%\n"
    }
   }
  },
  {
   "cell_type": "code",
   "execution_count": 36,
   "outputs": [
    {
     "data": {
      "text/plain": "(0.03409090909090909, 3, 88)"
     },
     "execution_count": 36,
     "metadata": {},
     "output_type": "execute_result"
    }
   ],
   "source": [
    "from typing import Tuple\n",
    "import datetime\n",
    "\n",
    "api_url = \"https://api.open-meteo.com/v1/forecast?latitude=51.96&longitude=7.63&hourly=temperature_2m,rain,snowfall,windspeed_10m&daily=weathercode&timezone=Europe%2FBerlin&start_date={start}&end_date={end}\"\n",
    "\n",
    "def get_score(day: datetime.datetime) -> Tuple[float, int, int]:\n",
    "    formatted = day.strftime(\"%Y-%m-%d\")\n",
    "    res = requests.get(api_url.format(start=formatted, end=formatted)).json()\n",
    "    hourly = res[\"hourly\"]\n",
    "\n",
    "    temp = hourly[\"temperature_2m\"]\n",
    "    rain = hourly[\"rain\"]\n",
    "    snowfall = hourly[\"snowfall\"]\n",
    "    wind = hourly[\"windspeed_10m\"]\n",
    "\n",
    "    hour = day.hour + (1 if day.minute >= 20 else 0)\n",
    "\n",
    "    c_temp = temp[hour]\n",
    "    c_rain = rain[hour]\n",
    "    c_snow = snowfall[hour]\n",
    "    c_wind = wind[hour]\n",
    "\n",
    "    points = 0\n",
    "    max_points = 0\n",
    "\n",
    "    max_points += 43\n",
    "    # in C\n",
    "    if c_temp < -5:\n",
    "        points += 43\n",
    "    elif c_temp < 0:\n",
    "        points += 3\n",
    "    elif c_temp < 5:\n",
    "        points += 2\n",
    "    elif c_temp < 10:\n",
    "        points += 1\n",
    "\n",
    "    max_points += 15\n",
    "    # in mm\n",
    "    if c_rain > 30:\n",
    "        points += 15\n",
    "    elif c_rain > 10:\n",
    "        points += 8\n",
    "    elif c_rain > 2.5:\n",
    "        points += 4\n",
    "    elif c_rain > 0:\n",
    "        points += 1\n",
    "\n",
    "    max_points += 15\n",
    "    # in cm\n",
    "    if c_snow > 10:\n",
    "        points += 15\n",
    "    elif c_snow > 3:\n",
    "        points += 4\n",
    "    elif c_snow > 1:\n",
    "        points += 2\n",
    "    elif c_snow > 0:\n",
    "        points += 1\n",
    "\n",
    "    max_points += 15\n",
    "    # in km/h\n",
    "    if c_wind > 60: # stürmischer wind\n",
    "        points += 15\n",
    "    elif c_wind > 40: # starker wind\n",
    "        points += 9\n",
    "    elif c_wind > 30: # frische briese\n",
    "        points += 3\n",
    "    elif c_wind > 12: # schwache briese\n",
    "        points += 1\n",
    "\n",
    "    return points / max_points, points, max_points\n",
    "\n",
    "get_score(datetime.datetime.now())"
   ],
   "metadata": {
    "collapsed": false,
    "pycharm": {
     "name": "#%%\n"
    }
   }
  }
 ],
 "metadata": {
  "kernelspec": {
   "display_name": "Python 3",
   "language": "python",
   "name": "python3"
  },
  "language_info": {
   "codemirror_mode": {
    "name": "ipython",
    "version": 2
   },
   "file_extension": ".py",
   "mimetype": "text/x-python",
   "name": "python",
   "nbconvert_exporter": "python",
   "pygments_lexer": "ipython2",
   "version": "2.7.6"
  }
 },
 "nbformat": 4,
 "nbformat_minor": 0
}